{
 "cells": [
  {
   "cell_type": "code",
   "execution_count": 1,
   "id": "7757dae4",
   "metadata": {},
   "outputs": [],
   "source": [
    "\n",
    "import numpy as np              # Одномерные и многомерные массивы (array)\n",
    "import pandas as pd             # Таблицы и временные ряды (dataframe, series)\n",
    "import matplotlib.pyplot as plt # Научная графика\n",
    "import seaborn as sns           # Еще больше красивой графики для визуализации данных\n",
    "import sklearn                  # Алгоритмы машинного обучения"
   ]
  },
  {
   "cell_type": "code",
   "execution_count": 158,
   "id": "6fc64b65",
   "metadata": {},
   "outputs": [
    {
     "name": "stdout",
     "output_type": "stream",
     "text": [
      "Requirement already satisfied: scikit-learn in c:\\users\\mario\\anaconda3\\lib\\site-packages (1.2.0)Note: you may need to restart the kernel to use updated packages.\n",
      "\n",
      "Requirement already satisfied: numpy>=1.17.3 in c:\\users\\mario\\anaconda3\\lib\\site-packages (from scikit-learn) (1.20.3)\n",
      "Requirement already satisfied: joblib>=1.1.1 in c:\\users\\mario\\anaconda3\\lib\\site-packages (from scikit-learn) (1.2.0)\n",
      "Requirement already satisfied: scipy>=1.3.2 in c:\\users\\mario\\anaconda3\\lib\\site-packages (from scikit-learn) (1.7.1)\n",
      "Requirement already satisfied: threadpoolctl>=2.0.0 in c:\\users\\mario\\anaconda3\\lib\\site-packages (from scikit-learn) (2.2.0)\n"
     ]
    }
   ],
   "source": [
    "pip install -U scikit-learn"
   ]
  },
  {
   "cell_type": "code",
   "execution_count": 19,
   "id": "650f3e8c",
   "metadata": {},
   "outputs": [
    {
     "name": "stdout",
     "output_type": "stream",
     "text": [
      "Collecting package metadata (current_repodata.json): ...working... done\n",
      "Note: you may need to restart the kernel to use updated packages.\n"
     ]
    },
    {
     "name": "stderr",
     "output_type": "stream",
     "text": [
      "\n",
      "The environment is inconsistent, please check the package plan carefully\n",
      "The following packages are causing the inconsistency:\n",
      "\n",
      "  - defaults/win-64::anaconda==2021.11=py39_0\n",
      "  - defaults/noarch::nltk==3.6.5=pyhd3eb1b0_0\n",
      "  - defaults/win-64::scikit-learn-intelex==2021.3.0=py39haa95532_0\n",
      "\n",
      "The environment is inconsistent, please check the package plan carefully\n",
      "The following packages are causing the inconsistency:\n",
      "\n",
      "  - defaults/win-64::anaconda==2021.11=py39_0\n",
      "  - defaults/noarch::nltk==3.6.5=pyhd3eb1b0_0\n",
      "  - defaults/win-64::scikit-learn-intelex==2021.3.0=py39haa95532_0\n",
      "\n",
      "\n",
      "==> WARNING: A newer version of conda exists. <==\n",
      "  current version: 4.12.0\n",
      "  latest version: 22.11.1\n",
      "\n",
      "Please update conda by running\n",
      "\n",
      "    $ conda update -n base -c defaults conda\n",
      "\n",
      "\n"
     ]
    },
    {
     "name": "stdout",
     "output_type": "stream",
     "text": [
      "\n",
      "Solving environment: ...working... failed with initial frozen solve. Retrying with flexible solve.\n",
      "Solving environment: ...working... failed with repodata from current_repodata.json, will retry with next repodata source.\n",
      "Collecting package metadata (repodata.json): ...working... done\n",
      "Solving environment: ...working... done\n",
      "\n",
      "## Package Plan ##\n",
      "\n",
      "  environment location: C:\\Users\\mario\\anaconda3\n",
      "\n",
      "  added / updated specs:\n",
      "    - imbalanced-learn\n",
      "\n",
      "\n",
      "The following packages will be downloaded:\n",
      "\n",
      "    package                    |            build\n",
      "    ---------------------------|-----------------\n",
      "    _anaconda_depends-2021.11  |           py39_0           7 KB\n",
      "    anaconda-custom            |           py39_1           4 KB\n",
      "    ca-certificates-2022.12.7  |       h5b45459_0         143 KB  conda-forge\n",
      "    certifi-2022.12.7          |     pyhd8ed1ab_0         147 KB  conda-forge\n",
      "    conda-4.12.0               |   py39hcbf5309_0         1.0 MB  conda-forge\n",
      "    imbalanced-learn-0.10.1    |     pyhd8ed1ab_0         131 KB  conda-forge\n",
      "    joblib-1.2.0               |     pyhd8ed1ab_0         205 KB  conda-forge\n",
      "    openssl-1.1.1q             |       h8ffe710_0         5.8 MB  conda-forge\n",
      "    python_abi-3.9             |           2_cp39           4 KB  conda-forge\n",
      "    scikit-learn-1.2.0         |   py39hd77b12b_0         6.5 MB\n",
      "    ------------------------------------------------------------\n",
      "                                           Total:        13.9 MB\n",
      "\n",
      "The following NEW packages will be INSTALLED:\n",
      "\n",
      "  _anaconda_depends  pkgs/main/win-64::_anaconda_depends-2021.11-py39_0\n",
      "  imbalanced-learn   conda-forge/noarch::imbalanced-learn-0.10.1-pyhd8ed1ab_0\n",
      "  joblib             conda-forge/noarch::joblib-1.2.0-pyhd8ed1ab_0\n",
      "  python_abi         conda-forge/win-64::python_abi-3.9-2_cp39\n",
      "  scikit-learn       pkgs/main/win-64::scikit-learn-1.2.0-py39hd77b12b_0\n",
      "\n",
      "The following packages will be UPDATED:\n",
      "\n",
      "  ca-certificates    pkgs/main::ca-certificates-2021.10.26~ --> conda-forge::ca-certificates-2022.12.7-h5b45459_0\n",
      "  certifi            pkgs/main/win-64::certifi-2021.10.8-p~ --> conda-forge/noarch::certifi-2022.12.7-pyhd8ed1ab_0\n",
      "  openssl              pkgs/main::openssl-1.1.1l-h2bbff1b_0 --> conda-forge::openssl-1.1.1q-h8ffe710_0\n",
      "\n",
      "The following packages will be SUPERSEDED by a higher-priority channel:\n",
      "\n",
      "  conda              pkgs/main::conda-4.12.0-py39haa95532_0 --> conda-forge::conda-4.12.0-py39hcbf5309_0\n",
      "\n",
      "The following packages will be DOWNGRADED:\n",
      "\n",
      "  anaconda                                   2021.11-py39_0 --> custom-py39_1\n",
      "\n",
      "\n",
      "\n",
      "Downloading and Extracting Packages\n",
      "\n",
      "joblib-1.2.0         | 205 KB    |            |   0% \n",
      "joblib-1.2.0         | 205 KB    | 7          |   8% \n",
      "joblib-1.2.0         | 205 KB    | ########## | 100% \n",
      "joblib-1.2.0         | 205 KB    | ########## | 100% \n",
      "\n",
      "imbalanced-learn-0.1 | 131 KB    |            |   0% \n",
      "imbalanced-learn-0.1 | 131 KB    | ########## | 100% \n",
      "imbalanced-learn-0.1 | 131 KB    | ########## | 100% \n",
      "\n",
      "certifi-2022.12.7    | 147 KB    |            |   0% \n",
      "certifi-2022.12.7    | 147 KB    | ########## | 100% \n",
      "certifi-2022.12.7    | 147 KB    | ########## | 100% \n",
      "\n",
      "python_abi-3.9       | 4 KB      |            |   0% \n",
      "python_abi-3.9       | 4 KB      | ########## | 100% \n",
      "\n",
      "openssl-1.1.1q       | 5.8 MB    |            |   0% \n",
      "openssl-1.1.1q       | 5.8 MB    | #          |  10% \n",
      "openssl-1.1.1q       | 5.8 MB    | ##8        |  29% \n",
      "openssl-1.1.1q       | 5.8 MB    | ####8      |  48% \n",
      "openssl-1.1.1q       | 5.8 MB    | ######6    |  66% \n",
      "openssl-1.1.1q       | 5.8 MB    | ########3  |  84% \n",
      "openssl-1.1.1q       | 5.8 MB    | ########## | 100% \n",
      "\n",
      "ca-certificates-2022 | 143 KB    |            |   0% \n",
      "ca-certificates-2022 | 143 KB    | ########## | 100% \n",
      "ca-certificates-2022 | 143 KB    | ########## | 100% \n",
      "\n",
      "_anaconda_depends-20 | 7 KB      |            |   0% \n",
      "_anaconda_depends-20 | 7 KB      | ########## | 100% \n",
      "_anaconda_depends-20 | 7 KB      | ########## | 100% \n",
      "\n",
      "conda-4.12.0         | 1.0 MB    |            |   0% \n",
      "conda-4.12.0         | 1.0 MB    | 1          |   2% \n",
      "conda-4.12.0         | 1.0 MB    | 9          |   9% \n",
      "conda-4.12.0         | 1.0 MB    | ##1        |  22% \n",
      "conda-4.12.0         | 1.0 MB    | ####       |  40% \n",
      "conda-4.12.0         | 1.0 MB    | #####5     |  55% \n",
      "conda-4.12.0         | 1.0 MB    | ######7    |  68% \n",
      "conda-4.12.0         | 1.0 MB    | ########   |  80% \n",
      "conda-4.12.0         | 1.0 MB    | ########## | 100% \n",
      "conda-4.12.0         | 1.0 MB    | ########## | 100% \n",
      "\n",
      "scikit-learn-1.2.0   | 6.5 MB    |            |   0% \n",
      "scikit-learn-1.2.0   | 6.5 MB    | 5          |   5% \n",
      "scikit-learn-1.2.0   | 6.5 MB    | #8         |  18% \n",
      "scikit-learn-1.2.0   | 6.5 MB    | ####5      |  45% \n",
      "scikit-learn-1.2.0   | 6.5 MB    | ######6    |  66% \n",
      "scikit-learn-1.2.0   | 6.5 MB    | ########5  |  85% \n",
      "scikit-learn-1.2.0   | 6.5 MB    | ########## | 100% \n",
      "\n",
      "anaconda-custom      | 4 KB      |            |   0% \n",
      "anaconda-custom      | 4 KB      | ########## | 100% \n",
      "anaconda-custom      | 4 KB      | ########## | 100% \n",
      "Preparing transaction: ...working... done\n",
      "Verifying transaction: ...working... done\n",
      "Executing transaction: ...working... \n",
      "\n",
      "    Windows 64-bit packages of scikit-learn can be accelerated using scikit-learn-intelex.\n",
      "    More details are available here: https://intel.github.io/scikit-learn-intelex\n",
      "\n",
      "    For example:\n",
      "\n",
      "        $ conda install scikit-learn-intelex\n",
      "        $ python -m sklearnex my_application.py\n",
      "\n",
      "\n",
      "done\n"
     ]
    }
   ],
   "source": [
    "conda install -c conda-forge imbalanced-learn"
   ]
  },
  {
   "cell_type": "markdown",
   "id": "bfb11df0",
   "metadata": {},
   "source": [
    "# Классификация музыкальных композиций по жанрам"
   ]
  },
  {
   "cell_type": "markdown",
   "id": "ed3b7329",
   "metadata": {},
   "source": [
    "## 1. Загрузить данные"
   ]
  },
  {
   "cell_type": "code",
   "execution_count": 2,
   "id": "a1fd10f7",
   "metadata": {},
   "outputs": [],
   "source": [
    "#import io\n",
    "data_raw = pd.read_csv('train.csv')"
   ]
  },
  {
   "cell_type": "markdown",
   "id": "390662cb",
   "metadata": {},
   "source": [
    "Размер таблицы"
   ]
  },
  {
   "cell_type": "code",
   "execution_count": 3,
   "id": "ba66371f",
   "metadata": {},
   "outputs": [
    {
     "data": {
      "text/plain": [
       "(17996, 17)"
      ]
     },
     "execution_count": 3,
     "metadata": {},
     "output_type": "execute_result"
    }
   ],
   "source": [
    "data_raw.shape"
   ]
  },
  {
   "cell_type": "code",
   "execution_count": 4,
   "id": "39f47846",
   "metadata": {
    "scrolled": true
   },
   "outputs": [
    {
     "data": {
      "text/html": [
       "<div>\n",
       "<style scoped>\n",
       "    .dataframe tbody tr th:only-of-type {\n",
       "        vertical-align: middle;\n",
       "    }\n",
       "\n",
       "    .dataframe tbody tr th {\n",
       "        vertical-align: top;\n",
       "    }\n",
       "\n",
       "    .dataframe thead th {\n",
       "        text-align: right;\n",
       "    }\n",
       "</style>\n",
       "<table border=\"1\" class=\"dataframe\">\n",
       "  <thead>\n",
       "    <tr style=\"text-align: right;\">\n",
       "      <th></th>\n",
       "      <th>Artist Name</th>\n",
       "      <th>Track Name</th>\n",
       "      <th>Popularity</th>\n",
       "      <th>danceability</th>\n",
       "      <th>energy</th>\n",
       "      <th>key</th>\n",
       "      <th>loudness</th>\n",
       "      <th>mode</th>\n",
       "      <th>speechiness</th>\n",
       "      <th>acousticness</th>\n",
       "      <th>instrumentalness</th>\n",
       "      <th>liveness</th>\n",
       "      <th>valence</th>\n",
       "      <th>tempo</th>\n",
       "      <th>duration_in min/ms</th>\n",
       "      <th>time_signature</th>\n",
       "      <th>Class</th>\n",
       "    </tr>\n",
       "  </thead>\n",
       "  <tbody>\n",
       "    <tr>\n",
       "      <th>0</th>\n",
       "      <td>Bruno Mars</td>\n",
       "      <td>That's What I Like (feat. Gucci Mane)</td>\n",
       "      <td>60.0</td>\n",
       "      <td>0.854</td>\n",
       "      <td>0.564</td>\n",
       "      <td>1.0</td>\n",
       "      <td>-4.964</td>\n",
       "      <td>1</td>\n",
       "      <td>0.0485</td>\n",
       "      <td>0.017100</td>\n",
       "      <td>NaN</td>\n",
       "      <td>0.0849</td>\n",
       "      <td>0.8990</td>\n",
       "      <td>134.071</td>\n",
       "      <td>234596.0</td>\n",
       "      <td>4</td>\n",
       "      <td>5</td>\n",
       "    </tr>\n",
       "    <tr>\n",
       "      <th>1</th>\n",
       "      <td>Boston</td>\n",
       "      <td>Hitch a Ride</td>\n",
       "      <td>54.0</td>\n",
       "      <td>0.382</td>\n",
       "      <td>0.814</td>\n",
       "      <td>3.0</td>\n",
       "      <td>-7.230</td>\n",
       "      <td>1</td>\n",
       "      <td>0.0406</td>\n",
       "      <td>0.001100</td>\n",
       "      <td>0.004010</td>\n",
       "      <td>0.1010</td>\n",
       "      <td>0.5690</td>\n",
       "      <td>116.454</td>\n",
       "      <td>251733.0</td>\n",
       "      <td>4</td>\n",
       "      <td>10</td>\n",
       "    </tr>\n",
       "    <tr>\n",
       "      <th>2</th>\n",
       "      <td>The Raincoats</td>\n",
       "      <td>No Side to Fall In</td>\n",
       "      <td>35.0</td>\n",
       "      <td>0.434</td>\n",
       "      <td>0.614</td>\n",
       "      <td>6.0</td>\n",
       "      <td>-8.334</td>\n",
       "      <td>1</td>\n",
       "      <td>0.0525</td>\n",
       "      <td>0.486000</td>\n",
       "      <td>0.000196</td>\n",
       "      <td>0.3940</td>\n",
       "      <td>0.7870</td>\n",
       "      <td>147.681</td>\n",
       "      <td>109667.0</td>\n",
       "      <td>4</td>\n",
       "      <td>6</td>\n",
       "    </tr>\n",
       "    <tr>\n",
       "      <th>3</th>\n",
       "      <td>Deno</td>\n",
       "      <td>Lingo (feat. J.I &amp; Chunkz)</td>\n",
       "      <td>66.0</td>\n",
       "      <td>0.853</td>\n",
       "      <td>0.597</td>\n",
       "      <td>10.0</td>\n",
       "      <td>-6.528</td>\n",
       "      <td>0</td>\n",
       "      <td>0.0555</td>\n",
       "      <td>0.021200</td>\n",
       "      <td>NaN</td>\n",
       "      <td>0.1220</td>\n",
       "      <td>0.5690</td>\n",
       "      <td>107.033</td>\n",
       "      <td>173968.0</td>\n",
       "      <td>4</td>\n",
       "      <td>5</td>\n",
       "    </tr>\n",
       "    <tr>\n",
       "      <th>4</th>\n",
       "      <td>Red Hot Chili Peppers</td>\n",
       "      <td>Nobody Weird Like Me - Remastered</td>\n",
       "      <td>53.0</td>\n",
       "      <td>0.167</td>\n",
       "      <td>0.975</td>\n",
       "      <td>2.0</td>\n",
       "      <td>-4.279</td>\n",
       "      <td>1</td>\n",
       "      <td>0.2160</td>\n",
       "      <td>0.000169</td>\n",
       "      <td>0.016100</td>\n",
       "      <td>0.1720</td>\n",
       "      <td>0.0918</td>\n",
       "      <td>199.060</td>\n",
       "      <td>229960.0</td>\n",
       "      <td>4</td>\n",
       "      <td>10</td>\n",
       "    </tr>\n",
       "  </tbody>\n",
       "</table>\n",
       "</div>"
      ],
      "text/plain": [
       "             Artist Name                             Track Name  Popularity  \\\n",
       "0             Bruno Mars  That's What I Like (feat. Gucci Mane)        60.0   \n",
       "1                 Boston                           Hitch a Ride        54.0   \n",
       "2          The Raincoats                     No Side to Fall In        35.0   \n",
       "3                   Deno             Lingo (feat. J.I & Chunkz)        66.0   \n",
       "4  Red Hot Chili Peppers      Nobody Weird Like Me - Remastered        53.0   \n",
       "\n",
       "   danceability  energy   key  loudness  mode  speechiness  acousticness  \\\n",
       "0         0.854   0.564   1.0    -4.964     1       0.0485      0.017100   \n",
       "1         0.382   0.814   3.0    -7.230     1       0.0406      0.001100   \n",
       "2         0.434   0.614   6.0    -8.334     1       0.0525      0.486000   \n",
       "3         0.853   0.597  10.0    -6.528     0       0.0555      0.021200   \n",
       "4         0.167   0.975   2.0    -4.279     1       0.2160      0.000169   \n",
       "\n",
       "   instrumentalness  liveness  valence    tempo  duration_in min/ms  \\\n",
       "0               NaN    0.0849   0.8990  134.071            234596.0   \n",
       "1          0.004010    0.1010   0.5690  116.454            251733.0   \n",
       "2          0.000196    0.3940   0.7870  147.681            109667.0   \n",
       "3               NaN    0.1220   0.5690  107.033            173968.0   \n",
       "4          0.016100    0.1720   0.0918  199.060            229960.0   \n",
       "\n",
       "   time_signature  Class  \n",
       "0               4      5  \n",
       "1               4     10  \n",
       "2               4      6  \n",
       "3               4      5  \n",
       "4               4     10  "
      ]
     },
     "execution_count": 4,
     "metadata": {},
     "output_type": "execute_result"
    }
   ],
   "source": [
    "data_raw.head()"
   ]
  },
  {
   "cell_type": "markdown",
   "id": "27c1b94d",
   "metadata": {},
   "source": [
    "Ифнормация по столбцам"
   ]
  },
  {
   "cell_type": "code",
   "execution_count": 5,
   "id": "46f1a9ba",
   "metadata": {},
   "outputs": [
    {
     "name": "stdout",
     "output_type": "stream",
     "text": [
      "<class 'pandas.core.frame.DataFrame'>\n",
      "RangeIndex: 17996 entries, 0 to 17995\n",
      "Data columns (total 17 columns):\n",
      " #   Column              Non-Null Count  Dtype  \n",
      "---  ------              --------------  -----  \n",
      " 0   Artist Name         17996 non-null  object \n",
      " 1   Track Name          17996 non-null  object \n",
      " 2   Popularity          17568 non-null  float64\n",
      " 3   danceability        17996 non-null  float64\n",
      " 4   energy              17996 non-null  float64\n",
      " 5   key                 15982 non-null  float64\n",
      " 6   loudness            17996 non-null  float64\n",
      " 7   mode                17996 non-null  int64  \n",
      " 8   speechiness         17996 non-null  float64\n",
      " 9   acousticness        17996 non-null  float64\n",
      " 10  instrumentalness    13619 non-null  float64\n",
      " 11  liveness            17996 non-null  float64\n",
      " 12  valence             17996 non-null  float64\n",
      " 13  tempo               17996 non-null  float64\n",
      " 14  duration_in min/ms  17996 non-null  float64\n",
      " 15  time_signature      17996 non-null  int64  \n",
      " 16  Class               17996 non-null  int64  \n",
      "dtypes: float64(12), int64(3), object(2)\n",
      "memory usage: 2.3+ MB\n"
     ]
    }
   ],
   "source": [
    "data_raw.info()"
   ]
  },
  {
   "cell_type": "markdown",
   "id": "43f167b0",
   "metadata": {},
   "source": [
    "## 2. Описание задачи\n",
    "**Artist Name** - имя исполнителя         \n",
    "**Track Name** - название трека          \n",
    "**Popularity** - популярность         \n",
    "**danceability** - танцевальность        \n",
    "**energy** - энергия              \n",
    "**key**  - клавишность              \n",
    "**loudness** - громкость            \n",
    "**mode** - режим                \n",
    "**speechiness** - речь         \n",
    "**acousticness** - акустика        \n",
    "**instrumentalness** - инструментальность   \n",
    "**liveness** - живой звук           \n",
    "**valence** - валентность             \n",
    "**tempo** - темп            \n",
    "**duration_in min/ms** - дюрация  \n",
    "**time_signature** - время       \n",
    "**Class** - класс \n",
    "\n",
    "\n",
    "Признаки Artist Name, Track Name - номинальные , Mode - бинарный, \n",
    "остальные признаки (включая целевой признак Class) - количественный (числовой).\n",
    "\n",
    "Требуется предсказать количественный признак Class по остальным признакам. Это задача классификации.\n",
    "\n",
    "\n"
   ]
  },
  {
   "cell_type": "code",
   "execution_count": 6,
   "id": "15c66c14",
   "metadata": {
    "scrolled": true
   },
   "outputs": [
    {
     "data": {
      "text/html": [
       "<div>\n",
       "<style scoped>\n",
       "    .dataframe tbody tr th:only-of-type {\n",
       "        vertical-align: middle;\n",
       "    }\n",
       "\n",
       "    .dataframe tbody tr th {\n",
       "        vertical-align: top;\n",
       "    }\n",
       "\n",
       "    .dataframe thead th {\n",
       "        text-align: right;\n",
       "    }\n",
       "</style>\n",
       "<table border=\"1\" class=\"dataframe\">\n",
       "  <thead>\n",
       "    <tr style=\"text-align: right;\">\n",
       "      <th></th>\n",
       "      <th>Artist Name</th>\n",
       "      <th>Track Name</th>\n",
       "      <th>Popularity</th>\n",
       "      <th>danceability</th>\n",
       "      <th>energy</th>\n",
       "      <th>key</th>\n",
       "      <th>loudness</th>\n",
       "      <th>mode</th>\n",
       "      <th>speechiness</th>\n",
       "      <th>acousticness</th>\n",
       "      <th>instrumentalness</th>\n",
       "      <th>liveness</th>\n",
       "      <th>valence</th>\n",
       "      <th>tempo</th>\n",
       "      <th>duration_in min/ms</th>\n",
       "      <th>time_signature</th>\n",
       "      <th>Class</th>\n",
       "    </tr>\n",
       "  </thead>\n",
       "  <tbody>\n",
       "    <tr>\n",
       "      <th>0</th>\n",
       "      <td>Bruno Mars</td>\n",
       "      <td>That's What I Like (feat. Gucci Mane)</td>\n",
       "      <td>60.0</td>\n",
       "      <td>0.854</td>\n",
       "      <td>0.564</td>\n",
       "      <td>1.0</td>\n",
       "      <td>-4.964</td>\n",
       "      <td>1</td>\n",
       "      <td>0.0485</td>\n",
       "      <td>0.017100</td>\n",
       "      <td>NaN</td>\n",
       "      <td>0.0849</td>\n",
       "      <td>0.8990</td>\n",
       "      <td>134.071</td>\n",
       "      <td>234596.0</td>\n",
       "      <td>4</td>\n",
       "      <td>5</td>\n",
       "    </tr>\n",
       "    <tr>\n",
       "      <th>1</th>\n",
       "      <td>Boston</td>\n",
       "      <td>Hitch a Ride</td>\n",
       "      <td>54.0</td>\n",
       "      <td>0.382</td>\n",
       "      <td>0.814</td>\n",
       "      <td>3.0</td>\n",
       "      <td>-7.230</td>\n",
       "      <td>1</td>\n",
       "      <td>0.0406</td>\n",
       "      <td>0.001100</td>\n",
       "      <td>0.004010</td>\n",
       "      <td>0.1010</td>\n",
       "      <td>0.5690</td>\n",
       "      <td>116.454</td>\n",
       "      <td>251733.0</td>\n",
       "      <td>4</td>\n",
       "      <td>10</td>\n",
       "    </tr>\n",
       "    <tr>\n",
       "      <th>2</th>\n",
       "      <td>The Raincoats</td>\n",
       "      <td>No Side to Fall In</td>\n",
       "      <td>35.0</td>\n",
       "      <td>0.434</td>\n",
       "      <td>0.614</td>\n",
       "      <td>6.0</td>\n",
       "      <td>-8.334</td>\n",
       "      <td>1</td>\n",
       "      <td>0.0525</td>\n",
       "      <td>0.486000</td>\n",
       "      <td>0.000196</td>\n",
       "      <td>0.3940</td>\n",
       "      <td>0.7870</td>\n",
       "      <td>147.681</td>\n",
       "      <td>109667.0</td>\n",
       "      <td>4</td>\n",
       "      <td>6</td>\n",
       "    </tr>\n",
       "    <tr>\n",
       "      <th>3</th>\n",
       "      <td>Deno</td>\n",
       "      <td>Lingo (feat. J.I &amp; Chunkz)</td>\n",
       "      <td>66.0</td>\n",
       "      <td>0.853</td>\n",
       "      <td>0.597</td>\n",
       "      <td>10.0</td>\n",
       "      <td>-6.528</td>\n",
       "      <td>0</td>\n",
       "      <td>0.0555</td>\n",
       "      <td>0.021200</td>\n",
       "      <td>NaN</td>\n",
       "      <td>0.1220</td>\n",
       "      <td>0.5690</td>\n",
       "      <td>107.033</td>\n",
       "      <td>173968.0</td>\n",
       "      <td>4</td>\n",
       "      <td>5</td>\n",
       "    </tr>\n",
       "    <tr>\n",
       "      <th>4</th>\n",
       "      <td>Red Hot Chili Peppers</td>\n",
       "      <td>Nobody Weird Like Me - Remastered</td>\n",
       "      <td>53.0</td>\n",
       "      <td>0.167</td>\n",
       "      <td>0.975</td>\n",
       "      <td>2.0</td>\n",
       "      <td>-4.279</td>\n",
       "      <td>1</td>\n",
       "      <td>0.2160</td>\n",
       "      <td>0.000169</td>\n",
       "      <td>0.016100</td>\n",
       "      <td>0.1720</td>\n",
       "      <td>0.0918</td>\n",
       "      <td>199.060</td>\n",
       "      <td>229960.0</td>\n",
       "      <td>4</td>\n",
       "      <td>10</td>\n",
       "    </tr>\n",
       "    <tr>\n",
       "      <th>...</th>\n",
       "      <td>...</td>\n",
       "      <td>...</td>\n",
       "      <td>...</td>\n",
       "      <td>...</td>\n",
       "      <td>...</td>\n",
       "      <td>...</td>\n",
       "      <td>...</td>\n",
       "      <td>...</td>\n",
       "      <td>...</td>\n",
       "      <td>...</td>\n",
       "      <td>...</td>\n",
       "      <td>...</td>\n",
       "      <td>...</td>\n",
       "      <td>...</td>\n",
       "      <td>...</td>\n",
       "      <td>...</td>\n",
       "      <td>...</td>\n",
       "    </tr>\n",
       "    <tr>\n",
       "      <th>17991</th>\n",
       "      <td>Green-House</td>\n",
       "      <td>Find Home</td>\n",
       "      <td>35.0</td>\n",
       "      <td>0.166</td>\n",
       "      <td>0.109</td>\n",
       "      <td>7.0</td>\n",
       "      <td>-17.100</td>\n",
       "      <td>0</td>\n",
       "      <td>0.0413</td>\n",
       "      <td>0.993000</td>\n",
       "      <td>0.824000</td>\n",
       "      <td>0.0984</td>\n",
       "      <td>0.1770</td>\n",
       "      <td>171.587</td>\n",
       "      <td>193450.0</td>\n",
       "      <td>3</td>\n",
       "      <td>6</td>\n",
       "    </tr>\n",
       "    <tr>\n",
       "      <th>17992</th>\n",
       "      <td>Micatone</td>\n",
       "      <td>All Gone</td>\n",
       "      <td>27.0</td>\n",
       "      <td>0.638</td>\n",
       "      <td>0.223</td>\n",
       "      <td>11.0</td>\n",
       "      <td>-10.174</td>\n",
       "      <td>0</td>\n",
       "      <td>0.0329</td>\n",
       "      <td>0.858000</td>\n",
       "      <td>0.000016</td>\n",
       "      <td>0.0705</td>\n",
       "      <td>0.3350</td>\n",
       "      <td>73.016</td>\n",
       "      <td>257067.0</td>\n",
       "      <td>4</td>\n",
       "      <td>2</td>\n",
       "    </tr>\n",
       "    <tr>\n",
       "      <th>17993</th>\n",
       "      <td>Smash Hit Combo</td>\n",
       "      <td>Peine perdue</td>\n",
       "      <td>34.0</td>\n",
       "      <td>0.558</td>\n",
       "      <td>0.981</td>\n",
       "      <td>4.0</td>\n",
       "      <td>-4.683</td>\n",
       "      <td>0</td>\n",
       "      <td>0.0712</td>\n",
       "      <td>0.000030</td>\n",
       "      <td>0.000136</td>\n",
       "      <td>0.6660</td>\n",
       "      <td>0.2620</td>\n",
       "      <td>105.000</td>\n",
       "      <td>216222.0</td>\n",
       "      <td>4</td>\n",
       "      <td>8</td>\n",
       "    </tr>\n",
       "    <tr>\n",
       "      <th>17994</th>\n",
       "      <td>Beherit</td>\n",
       "      <td>Salomon's Gate</td>\n",
       "      <td>29.0</td>\n",
       "      <td>0.215</td>\n",
       "      <td>0.805</td>\n",
       "      <td>6.0</td>\n",
       "      <td>-12.757</td>\n",
       "      <td>0</td>\n",
       "      <td>0.1340</td>\n",
       "      <td>0.001290</td>\n",
       "      <td>0.916000</td>\n",
       "      <td>0.2560</td>\n",
       "      <td>0.3550</td>\n",
       "      <td>131.363</td>\n",
       "      <td>219693.0</td>\n",
       "      <td>4</td>\n",
       "      <td>8</td>\n",
       "    </tr>\n",
       "    <tr>\n",
       "      <th>17995</th>\n",
       "      <td>The Raconteurs</td>\n",
       "      <td>Broken Boy Soldier</td>\n",
       "      <td>43.0</td>\n",
       "      <td>0.400</td>\n",
       "      <td>0.853</td>\n",
       "      <td>4.0</td>\n",
       "      <td>-5.320</td>\n",
       "      <td>0</td>\n",
       "      <td>0.0591</td>\n",
       "      <td>0.006040</td>\n",
       "      <td>0.212000</td>\n",
       "      <td>0.3340</td>\n",
       "      <td>0.3770</td>\n",
       "      <td>138.102</td>\n",
       "      <td>182227.0</td>\n",
       "      <td>4</td>\n",
       "      <td>10</td>\n",
       "    </tr>\n",
       "  </tbody>\n",
       "</table>\n",
       "<p>17996 rows × 17 columns</p>\n",
       "</div>"
      ],
      "text/plain": [
       "                 Artist Name                             Track Name  \\\n",
       "0                 Bruno Mars  That's What I Like (feat. Gucci Mane)   \n",
       "1                     Boston                           Hitch a Ride   \n",
       "2              The Raincoats                     No Side to Fall In   \n",
       "3                       Deno             Lingo (feat. J.I & Chunkz)   \n",
       "4      Red Hot Chili Peppers      Nobody Weird Like Me - Remastered   \n",
       "...                      ...                                    ...   \n",
       "17991            Green-House                              Find Home   \n",
       "17992               Micatone                               All Gone   \n",
       "17993        Smash Hit Combo                           Peine perdue   \n",
       "17994                Beherit                         Salomon's Gate   \n",
       "17995         The Raconteurs                     Broken Boy Soldier   \n",
       "\n",
       "       Popularity  danceability  energy   key  loudness  mode  speechiness  \\\n",
       "0            60.0         0.854   0.564   1.0    -4.964     1       0.0485   \n",
       "1            54.0         0.382   0.814   3.0    -7.230     1       0.0406   \n",
       "2            35.0         0.434   0.614   6.0    -8.334     1       0.0525   \n",
       "3            66.0         0.853   0.597  10.0    -6.528     0       0.0555   \n",
       "4            53.0         0.167   0.975   2.0    -4.279     1       0.2160   \n",
       "...           ...           ...     ...   ...       ...   ...          ...   \n",
       "17991        35.0         0.166   0.109   7.0   -17.100     0       0.0413   \n",
       "17992        27.0         0.638   0.223  11.0   -10.174     0       0.0329   \n",
       "17993        34.0         0.558   0.981   4.0    -4.683     0       0.0712   \n",
       "17994        29.0         0.215   0.805   6.0   -12.757     0       0.1340   \n",
       "17995        43.0         0.400   0.853   4.0    -5.320     0       0.0591   \n",
       "\n",
       "       acousticness  instrumentalness  liveness  valence    tempo  \\\n",
       "0          0.017100               NaN    0.0849   0.8990  134.071   \n",
       "1          0.001100          0.004010    0.1010   0.5690  116.454   \n",
       "2          0.486000          0.000196    0.3940   0.7870  147.681   \n",
       "3          0.021200               NaN    0.1220   0.5690  107.033   \n",
       "4          0.000169          0.016100    0.1720   0.0918  199.060   \n",
       "...             ...               ...       ...      ...      ...   \n",
       "17991      0.993000          0.824000    0.0984   0.1770  171.587   \n",
       "17992      0.858000          0.000016    0.0705   0.3350   73.016   \n",
       "17993      0.000030          0.000136    0.6660   0.2620  105.000   \n",
       "17994      0.001290          0.916000    0.2560   0.3550  131.363   \n",
       "17995      0.006040          0.212000    0.3340   0.3770  138.102   \n",
       "\n",
       "       duration_in min/ms  time_signature  Class  \n",
       "0                234596.0               4      5  \n",
       "1                251733.0               4     10  \n",
       "2                109667.0               4      6  \n",
       "3                173968.0               4      5  \n",
       "4                229960.0               4     10  \n",
       "...                   ...             ...    ...  \n",
       "17991            193450.0               3      6  \n",
       "17992            257067.0               4      2  \n",
       "17993            216222.0               4      8  \n",
       "17994            219693.0               4      8  \n",
       "17995            182227.0               4     10  \n",
       "\n",
       "[17996 rows x 17 columns]"
      ]
     },
     "execution_count": 6,
     "metadata": {},
     "output_type": "execute_result"
    }
   ],
   "source": [
    "data_raw"
   ]
  },
  {
   "cell_type": "code",
   "execution_count": 7,
   "id": "dbd2fb59",
   "metadata": {},
   "outputs": [],
   "source": [
    "#Заменим объектный тип на специальный категориальный\n",
    "\n",
    "data_raw['Artist Name'] = data_raw['Artist Name'].astype('category')\n",
    "data_raw['Track Name'] = data_raw['Track Name'].astype('category')"
   ]
  },
  {
   "cell_type": "code",
   "execution_count": 10,
   "id": "291b3110",
   "metadata": {},
   "outputs": [
    {
     "data": {
      "text/html": [
       "<div>\n",
       "<style scoped>\n",
       "    .dataframe tbody tr th:only-of-type {\n",
       "        vertical-align: middle;\n",
       "    }\n",
       "\n",
       "    .dataframe tbody tr th {\n",
       "        vertical-align: top;\n",
       "    }\n",
       "\n",
       "    .dataframe thead th {\n",
       "        text-align: right;\n",
       "    }\n",
       "</style>\n",
       "<table border=\"1\" class=\"dataframe\">\n",
       "  <thead>\n",
       "    <tr style=\"text-align: right;\">\n",
       "      <th></th>\n",
       "      <th>Popularity</th>\n",
       "      <th>danceability</th>\n",
       "      <th>energy</th>\n",
       "      <th>key</th>\n",
       "      <th>loudness</th>\n",
       "      <th>mode</th>\n",
       "      <th>speechiness</th>\n",
       "      <th>acousticness</th>\n",
       "      <th>instrumentalness</th>\n",
       "      <th>liveness</th>\n",
       "      <th>valence</th>\n",
       "      <th>tempo</th>\n",
       "      <th>duration_in min/ms</th>\n",
       "      <th>time_signature</th>\n",
       "      <th>Class</th>\n",
       "    </tr>\n",
       "  </thead>\n",
       "  <tbody>\n",
       "    <tr>\n",
       "      <th>count</th>\n",
       "      <td>17568.000000</td>\n",
       "      <td>17996.000000</td>\n",
       "      <td>17996.000000</td>\n",
       "      <td>15982.000000</td>\n",
       "      <td>17996.000000</td>\n",
       "      <td>17996.000000</td>\n",
       "      <td>17996.000000</td>\n",
       "      <td>17996.000000</td>\n",
       "      <td>13619.000000</td>\n",
       "      <td>17996.000000</td>\n",
       "      <td>17996.000000</td>\n",
       "      <td>17996.000000</td>\n",
       "      <td>1.799600e+04</td>\n",
       "      <td>17996.000000</td>\n",
       "      <td>17996.000000</td>\n",
       "    </tr>\n",
       "    <tr>\n",
       "      <th>mean</th>\n",
       "      <td>44.512124</td>\n",
       "      <td>0.543433</td>\n",
       "      <td>0.662777</td>\n",
       "      <td>5.952447</td>\n",
       "      <td>-7.910660</td>\n",
       "      <td>0.636753</td>\n",
       "      <td>0.079707</td>\n",
       "      <td>0.247082</td>\n",
       "      <td>0.177562</td>\n",
       "      <td>0.196170</td>\n",
       "      <td>0.486208</td>\n",
       "      <td>122.623294</td>\n",
       "      <td>2.007445e+05</td>\n",
       "      <td>3.924039</td>\n",
       "      <td>6.695821</td>\n",
       "    </tr>\n",
       "    <tr>\n",
       "      <th>std</th>\n",
       "      <td>17.426928</td>\n",
       "      <td>0.166268</td>\n",
       "      <td>0.235373</td>\n",
       "      <td>3.196854</td>\n",
       "      <td>4.049151</td>\n",
       "      <td>0.480949</td>\n",
       "      <td>0.083576</td>\n",
       "      <td>0.310632</td>\n",
       "      <td>0.304048</td>\n",
       "      <td>0.159212</td>\n",
       "      <td>0.240195</td>\n",
       "      <td>29.571527</td>\n",
       "      <td>1.119891e+05</td>\n",
       "      <td>0.361618</td>\n",
       "      <td>3.206073</td>\n",
       "    </tr>\n",
       "    <tr>\n",
       "      <th>min</th>\n",
       "      <td>1.000000</td>\n",
       "      <td>0.059600</td>\n",
       "      <td>0.000020</td>\n",
       "      <td>1.000000</td>\n",
       "      <td>-39.952000</td>\n",
       "      <td>0.000000</td>\n",
       "      <td>0.022500</td>\n",
       "      <td>0.000000</td>\n",
       "      <td>0.000001</td>\n",
       "      <td>0.011900</td>\n",
       "      <td>0.018300</td>\n",
       "      <td>30.557000</td>\n",
       "      <td>5.016500e-01</td>\n",
       "      <td>1.000000</td>\n",
       "      <td>0.000000</td>\n",
       "    </tr>\n",
       "    <tr>\n",
       "      <th>25%</th>\n",
       "      <td>33.000000</td>\n",
       "      <td>0.432000</td>\n",
       "      <td>0.509000</td>\n",
       "      <td>3.000000</td>\n",
       "      <td>-9.538000</td>\n",
       "      <td>0.000000</td>\n",
       "      <td>0.034800</td>\n",
       "      <td>0.004300</td>\n",
       "      <td>0.000089</td>\n",
       "      <td>0.097500</td>\n",
       "      <td>0.297000</td>\n",
       "      <td>99.620750</td>\n",
       "      <td>1.663370e+05</td>\n",
       "      <td>4.000000</td>\n",
       "      <td>5.000000</td>\n",
       "    </tr>\n",
       "    <tr>\n",
       "      <th>50%</th>\n",
       "      <td>44.000000</td>\n",
       "      <td>0.545000</td>\n",
       "      <td>0.700000</td>\n",
       "      <td>6.000000</td>\n",
       "      <td>-7.016000</td>\n",
       "      <td>1.000000</td>\n",
       "      <td>0.047400</td>\n",
       "      <td>0.081400</td>\n",
       "      <td>0.003910</td>\n",
       "      <td>0.129000</td>\n",
       "      <td>0.481000</td>\n",
       "      <td>120.065500</td>\n",
       "      <td>2.091600e+05</td>\n",
       "      <td>4.000000</td>\n",
       "      <td>8.000000</td>\n",
       "    </tr>\n",
       "    <tr>\n",
       "      <th>75%</th>\n",
       "      <td>56.000000</td>\n",
       "      <td>0.659000</td>\n",
       "      <td>0.860000</td>\n",
       "      <td>9.000000</td>\n",
       "      <td>-5.189000</td>\n",
       "      <td>1.000000</td>\n",
       "      <td>0.083000</td>\n",
       "      <td>0.434000</td>\n",
       "      <td>0.200000</td>\n",
       "      <td>0.258000</td>\n",
       "      <td>0.672000</td>\n",
       "      <td>141.969250</td>\n",
       "      <td>2.524900e+05</td>\n",
       "      <td>4.000000</td>\n",
       "      <td>10.000000</td>\n",
       "    </tr>\n",
       "    <tr>\n",
       "      <th>max</th>\n",
       "      <td>100.000000</td>\n",
       "      <td>0.989000</td>\n",
       "      <td>1.000000</td>\n",
       "      <td>11.000000</td>\n",
       "      <td>1.355000</td>\n",
       "      <td>1.000000</td>\n",
       "      <td>0.955000</td>\n",
       "      <td>0.996000</td>\n",
       "      <td>0.996000</td>\n",
       "      <td>1.000000</td>\n",
       "      <td>0.986000</td>\n",
       "      <td>217.416000</td>\n",
       "      <td>1.477187e+06</td>\n",
       "      <td>5.000000</td>\n",
       "      <td>10.000000</td>\n",
       "    </tr>\n",
       "  </tbody>\n",
       "</table>\n",
       "</div>"
      ],
      "text/plain": [
       "         Popularity  danceability        energy           key      loudness  \\\n",
       "count  17568.000000  17996.000000  17996.000000  15982.000000  17996.000000   \n",
       "mean      44.512124      0.543433      0.662777      5.952447     -7.910660   \n",
       "std       17.426928      0.166268      0.235373      3.196854      4.049151   \n",
       "min        1.000000      0.059600      0.000020      1.000000    -39.952000   \n",
       "25%       33.000000      0.432000      0.509000      3.000000     -9.538000   \n",
       "50%       44.000000      0.545000      0.700000      6.000000     -7.016000   \n",
       "75%       56.000000      0.659000      0.860000      9.000000     -5.189000   \n",
       "max      100.000000      0.989000      1.000000     11.000000      1.355000   \n",
       "\n",
       "               mode   speechiness  acousticness  instrumentalness  \\\n",
       "count  17996.000000  17996.000000  17996.000000      13619.000000   \n",
       "mean       0.636753      0.079707      0.247082          0.177562   \n",
       "std        0.480949      0.083576      0.310632          0.304048   \n",
       "min        0.000000      0.022500      0.000000          0.000001   \n",
       "25%        0.000000      0.034800      0.004300          0.000089   \n",
       "50%        1.000000      0.047400      0.081400          0.003910   \n",
       "75%        1.000000      0.083000      0.434000          0.200000   \n",
       "max        1.000000      0.955000      0.996000          0.996000   \n",
       "\n",
       "           liveness       valence         tempo  duration_in min/ms  \\\n",
       "count  17996.000000  17996.000000  17996.000000        1.799600e+04   \n",
       "mean       0.196170      0.486208    122.623294        2.007445e+05   \n",
       "std        0.159212      0.240195     29.571527        1.119891e+05   \n",
       "min        0.011900      0.018300     30.557000        5.016500e-01   \n",
       "25%        0.097500      0.297000     99.620750        1.663370e+05   \n",
       "50%        0.129000      0.481000    120.065500        2.091600e+05   \n",
       "75%        0.258000      0.672000    141.969250        2.524900e+05   \n",
       "max        1.000000      0.986000    217.416000        1.477187e+06   \n",
       "\n",
       "       time_signature         Class  \n",
       "count    17996.000000  17996.000000  \n",
       "mean         3.924039      6.695821  \n",
       "std          0.361618      3.206073  \n",
       "min          1.000000      0.000000  \n",
       "25%          4.000000      5.000000  \n",
       "50%          4.000000      8.000000  \n",
       "75%          4.000000     10.000000  \n",
       "max          5.000000     10.000000  "
      ]
     },
     "execution_count": 10,
     "metadata": {},
     "output_type": "execute_result"
    }
   ],
   "source": [
    "#информация по числовым признакам\n",
    "data_raw.describe()"
   ]
  },
  {
   "cell_type": "code",
   "execution_count": 11,
   "id": "54330e97",
   "metadata": {},
   "outputs": [
    {
     "data": {
      "text/html": [
       "<div>\n",
       "<style scoped>\n",
       "    .dataframe tbody tr th:only-of-type {\n",
       "        vertical-align: middle;\n",
       "    }\n",
       "\n",
       "    .dataframe tbody tr th {\n",
       "        vertical-align: top;\n",
       "    }\n",
       "\n",
       "    .dataframe thead th {\n",
       "        text-align: right;\n",
       "    }\n",
       "</style>\n",
       "<table border=\"1\" class=\"dataframe\">\n",
       "  <thead>\n",
       "    <tr style=\"text-align: right;\">\n",
       "      <th></th>\n",
       "      <th>Artist Name</th>\n",
       "      <th>Track Name</th>\n",
       "    </tr>\n",
       "  </thead>\n",
       "  <tbody>\n",
       "    <tr>\n",
       "      <th>count</th>\n",
       "      <td>17996</td>\n",
       "      <td>17996</td>\n",
       "    </tr>\n",
       "    <tr>\n",
       "      <th>unique</th>\n",
       "      <td>9149</td>\n",
       "      <td>15129</td>\n",
       "    </tr>\n",
       "    <tr>\n",
       "      <th>top</th>\n",
       "      <td>Backstreet Boys</td>\n",
       "      <td>Dreams</td>\n",
       "    </tr>\n",
       "    <tr>\n",
       "      <th>freq</th>\n",
       "      <td>69</td>\n",
       "      <td>9</td>\n",
       "    </tr>\n",
       "  </tbody>\n",
       "</table>\n",
       "</div>"
      ],
      "text/plain": [
       "            Artist Name Track Name\n",
       "count             17996      17996\n",
       "unique             9149      15129\n",
       "top     Backstreet Boys     Dreams\n",
       "freq                 69          9"
      ]
     },
     "execution_count": 11,
     "metadata": {},
     "output_type": "execute_result"
    }
   ],
   "source": [
    "data_raw.describe(include=['category'])"
   ]
  },
  {
   "cell_type": "markdown",
   "id": "7eab72eb",
   "metadata": {},
   "source": [
    "## 3. Пропуски\n"
   ]
  },
  {
   "cell_type": "code",
   "execution_count": 12,
   "id": "fb3b0c1a",
   "metadata": {},
   "outputs": [
    {
     "data": {
      "text/plain": [
       "Artist Name              0\n",
       "Track Name               0\n",
       "Popularity             428\n",
       "danceability             0\n",
       "energy                   0\n",
       "key                   2014\n",
       "loudness                 0\n",
       "mode                     0\n",
       "speechiness              0\n",
       "acousticness             0\n",
       "instrumentalness      4377\n",
       "liveness                 0\n",
       "valence                  0\n",
       "tempo                    0\n",
       "duration_in min/ms       0\n",
       "time_signature           0\n",
       "Class                    0\n",
       "dtype: int64"
      ]
     },
     "execution_count": 12,
     "metadata": {},
     "output_type": "execute_result"
    }
   ],
   "source": [
    "data_raw.isnull().sum()"
   ]
  },
  {
   "cell_type": "code",
   "execution_count": 13,
   "id": "bfa6a940",
   "metadata": {},
   "outputs": [
    {
     "data": {
      "text/plain": [
       "Popularity          44.00000\n",
       "key                  6.00000\n",
       "instrumentalness     0.00391\n",
       "dtype: float64"
      ]
     },
     "execution_count": 13,
     "metadata": {},
     "output_type": "execute_result"
    }
   ],
   "source": [
    "# Заменим пропуски медианой\n",
    "feat = ['Popularity', 'key', 'instrumentalness']\n",
    "data_raw[feat].median(axis = 0)"
   ]
  },
  {
   "cell_type": "code",
   "execution_count": 14,
   "id": "5006976d",
   "metadata": {},
   "outputs": [],
   "source": [
    "data_raw[feat] = data_raw[feat].fillna(data_raw[feat].median(axis = 0), axis=0)"
   ]
  },
  {
   "cell_type": "code",
   "execution_count": 15,
   "id": "b8057813",
   "metadata": {},
   "outputs": [
    {
     "data": {
      "text/plain": [
       "Artist Name           0\n",
       "Track Name            0\n",
       "Popularity            0\n",
       "danceability          0\n",
       "energy                0\n",
       "key                   0\n",
       "loudness              0\n",
       "mode                  0\n",
       "speechiness           0\n",
       "acousticness          0\n",
       "instrumentalness      0\n",
       "liveness              0\n",
       "valence               0\n",
       "tempo                 0\n",
       "duration_in min/ms    0\n",
       "time_signature        0\n",
       "Class                 0\n",
       "dtype: int64"
      ]
     },
     "execution_count": 15,
     "metadata": {},
     "output_type": "execute_result"
    }
   ],
   "source": [
    "data_raw.isnull().sum()"
   ]
  },
  {
   "cell_type": "code",
   "execution_count": 16,
   "id": "f6c8dfef",
   "metadata": {},
   "outputs": [
    {
     "name": "stdout",
     "output_type": "stream",
     "text": [
      "0 3.4729939986663703\n",
      "1 7.6294732162702825\n",
      "2 7.068237386085798\n",
      "3 2.2338297399422093\n",
      "4 2.1504778839742165\n",
      "5 8.04067570571238\n",
      "6 14.37541675927984\n",
      "7 3.200711269170927\n",
      "8 10.302289397643921\n",
      "9 14.02533896421427\n",
      "10 27.500555679039785\n"
     ]
    }
   ],
   "source": [
    "#Распределение по классам\n",
    "i_mass =[]\n",
    "per_mass = []\n",
    "for i in range (11):\n",
    "    count_no_class = len(data_raw[data_raw['Class']!=i])\n",
    "    count_class = len(data_raw[data_raw['Class']==i])\n",
    "    pct = count_class/(count_no_class + count_class)\n",
    "    print(i, pct*100)\n",
    "    i_mass.append (i)\n",
    "    per_mass.append (pct*100)\n",
    "    \n",
    "\n",
    "    "
   ]
  },
  {
   "cell_type": "code",
   "execution_count": 17,
   "id": "70ed94d6",
   "metadata": {},
   "outputs": [
    {
     "data": {
      "image/png": "[encoded data removed]",
      "text/plain": [
       "<Figure size 432x288 with 1 Axes>"
      ]
     },
     "metadata": {
      "needs_background": "light"
     },
     "output_type": "display_data"
    }
   ],
   "source": [
    "plt.bar(i_mass,per_mass)\n",
    "plt.show()"
   ]
  },
  {
   "cell_type": "markdown",
   "id": "9a496695",
   "metadata": {},
   "source": [
    "Из гистограммы видно, что классы не сбалансированы"
   ]
  },
  {
   "cell_type": "code",
   "execution_count": null,
   "id": "dec36ee1",
   "metadata": {},
   "outputs": [],
   "source": []
  },
  {
   "cell_type": "markdown",
   "id": "8f4ca7ba",
   "metadata": {},
   "source": [
    "## 4. Разбиваем на train и test"
   ]
  },
  {
   "cell_type": "code",
   "execution_count": 169,
   "id": "e1d974c9",
   "metadata": {},
   "outputs": [],
   "source": [
    "#Заменим категориальный признак на числовой\n",
    "#from sklearn.preprocessing import OneHotEncoder\n",
    "#enc = OneHotEncoder(drop='if_binary', sparse=False)\n",
    "#enc.fit(data_raw[['Artist Name']])"
   ]
  },
  {
   "cell_type": "code",
   "execution_count": 171,
   "id": "f77e8acf",
   "metadata": {},
   "outputs": [],
   "source": [
    "#tokens = enc.get_feature_names_out()\n",
    "#dummies = pd.DataFrame(enc.transform(data_raw[['Artist Name']]), columns= tokens, \n",
    "#                       index=data_raw.index)\n",
    "#dummies.head()\n"
   ]
  },
  {
   "cell_type": "code",
   "execution_count": 105,
   "id": "60088631",
   "metadata": {},
   "outputs": [],
   "source": [
    "#data_raw = pd.concat((data_raw, dummies), axis=1).drop(['Artist Name'], axis=1)"
   ]
  },
  {
   "cell_type": "code",
   "execution_count": 18,
   "id": "03f919e2",
   "metadata": {},
   "outputs": [],
   "source": [
    "X = data_raw.drop(['Artist Name','Track Name'], axis=1)\n",
    "y = data_raw['Class']"
   ]
  },
  {
   "cell_type": "code",
   "execution_count": null,
   "id": "2d0c70b1",
   "metadata": {},
   "outputs": [],
   "source": []
  },
  {
   "cell_type": "code",
   "execution_count": 19,
   "id": "1553d845",
   "metadata": {},
   "outputs": [
    {
     "data": {
      "text/plain": [
       "(13497, 4499)"
      ]
     },
     "execution_count": 19,
     "metadata": {},
     "output_type": "execute_result"
    }
   ],
   "source": [
    "# Разобьем данные 75% - обучающая выборка, 25% - тестовая \n",
    "from sklearn.model_selection import train_test_split\n",
    "X_train, X_test, y_train, y_test = train_test_split(X, y, test_size = 0.25, random_state = 42)\n",
    "\n",
    "N_train, _ = X_train.shape \n",
    "N_test,  _ = X_test.shape \n",
    "\n",
    "N_train, N_test"
   ]
  },
  {
   "cell_type": "code",
   "execution_count": 20,
   "id": "c173629e",
   "metadata": {},
   "outputs": [
    {
     "name": "stdout",
     "output_type": "stream",
     "text": [
      "0 3.3563014003111804\n",
      "1 7.653552641327703\n",
      "2 6.905238201081722\n",
      "3 2.2078980514188338\n",
      "4 2.2449433207379417\n",
      "5 8.2018226272505\n",
      "6 14.529154626954139\n",
      "7 3.2748018078091428\n",
      "8 10.231903385937615\n",
      "9 13.788249240571979\n",
      "10 27.606134696599245\n"
     ]
    }
   ],
   "source": [
    "#Распределение по классам\n",
    "i_mass =[]\n",
    "per_mass = []\n",
    "for i in range (11):\n",
    "    count_no_class = len(X_train[X_train['Class']!=i])\n",
    "    count_class = len(X_train[X_train['Class']==i])\n",
    "    pct = count_class/(count_no_class + count_class)\n",
    "    print(i, pct*100)\n",
    "    i_mass.append (i)\n",
    "    per_mass.append (pct*100)"
   ]
  },
  {
   "cell_type": "code",
   "execution_count": 21,
   "id": "4947bdda",
   "metadata": {},
   "outputs": [
    {
     "data": {
      "image/png": "[encoded data removed]",
      "text/plain": [
       "<Figure size 432x288 with 1 Axes>"
      ]
     },
     "metadata": {
      "needs_background": "light"
     },
     "output_type": "display_data"
    }
   ],
   "source": [
    "plt.bar(i_mass,per_mass)\n",
    "plt.show()"
   ]
  },
  {
   "cell_type": "code",
   "execution_count": 22,
   "id": "ba43f904",
   "metadata": {},
   "outputs": [],
   "source": [
    "#Сбалансируем классы\n",
    "\n",
    "from imblearn.over_sampling import SMOTE\n",
    "    "
   ]
  },
  {
   "cell_type": "code",
   "execution_count": null,
   "id": "f3f7bcef",
   "metadata": {},
   "outputs": [],
   "source": [
    "smt = SMOTE(random_state=1000)\n",
    "X_train, y_train= smt.fit_sample(X_train, y_train)"
   ]
  },
  {
   "cell_type": "code",
   "execution_count": 24,
   "id": "527860b5",
   "metadata": {},
   "outputs": [
    {
     "data": {
      "text/plain": [
       "(13497, 4499)"
      ]
     },
     "execution_count": 24,
     "metadata": {},
     "output_type": "execute_result"
    }
   ],
   "source": [
    "N_train, N_test"
   ]
  },
  {
   "cell_type": "markdown",
   "id": "c70ab390",
   "metadata": {},
   "source": [
    "## 5.Визуализация обучающей выборки"
   ]
  },
  {
   "cell_type": "code",
   "execution_count": 25,
   "id": "807ceaec",
   "metadata": {
    "scrolled": true
   },
   "outputs": [
    {
     "data": {
      "text/html": [
       "<div>\n",
       "<style scoped>\n",
       "    .dataframe tbody tr th:only-of-type {\n",
       "        vertical-align: middle;\n",
       "    }\n",
       "\n",
       "    .dataframe tbody tr th {\n",
       "        vertical-align: top;\n",
       "    }\n",
       "\n",
       "    .dataframe thead th {\n",
       "        text-align: right;\n",
       "    }\n",
       "</style>\n",
       "<table border=\"1\" class=\"dataframe\">\n",
       "  <thead>\n",
       "    <tr style=\"text-align: right;\">\n",
       "      <th></th>\n",
       "      <th>Popularity</th>\n",
       "      <th>danceability</th>\n",
       "      <th>energy</th>\n",
       "      <th>key</th>\n",
       "      <th>loudness</th>\n",
       "      <th>mode</th>\n",
       "      <th>speechiness</th>\n",
       "      <th>acousticness</th>\n",
       "      <th>instrumentalness</th>\n",
       "      <th>liveness</th>\n",
       "      <th>valence</th>\n",
       "      <th>tempo</th>\n",
       "      <th>duration_in min/ms</th>\n",
       "      <th>time_signature</th>\n",
       "      <th>Class</th>\n",
       "    </tr>\n",
       "  </thead>\n",
       "  <tbody>\n",
       "    <tr>\n",
       "      <th>count</th>\n",
       "      <td>13497.000000</td>\n",
       "      <td>13497.000000</td>\n",
       "      <td>13497.000000</td>\n",
       "      <td>13497.000000</td>\n",
       "      <td>13497.000000</td>\n",
       "      <td>13497.000000</td>\n",
       "      <td>13497.000000</td>\n",
       "      <td>13497.000000</td>\n",
       "      <td>13497.000000</td>\n",
       "      <td>13497.000000</td>\n",
       "      <td>13497.000000</td>\n",
       "      <td>13497.000000</td>\n",
       "      <td>1.349700e+04</td>\n",
       "      <td>13497.000000</td>\n",
       "      <td>13497.000000</td>\n",
       "    </tr>\n",
       "    <tr>\n",
       "      <th>mean</th>\n",
       "      <td>44.642884</td>\n",
       "      <td>0.543785</td>\n",
       "      <td>0.663316</td>\n",
       "      <td>5.947988</td>\n",
       "      <td>-7.933572</td>\n",
       "      <td>0.638068</td>\n",
       "      <td>0.080189</td>\n",
       "      <td>0.246254</td>\n",
       "      <td>0.135716</td>\n",
       "      <td>0.195656</td>\n",
       "      <td>0.486823</td>\n",
       "      <td>122.598905</td>\n",
       "      <td>2.003816e+05</td>\n",
       "      <td>3.926206</td>\n",
       "      <td>6.701860</td>\n",
       "    </tr>\n",
       "    <tr>\n",
       "      <th>std</th>\n",
       "      <td>17.352919</td>\n",
       "      <td>0.166070</td>\n",
       "      <td>0.234648</td>\n",
       "      <td>3.019295</td>\n",
       "      <td>4.072310</td>\n",
       "      <td>0.480577</td>\n",
       "      <td>0.085045</td>\n",
       "      <td>0.309769</td>\n",
       "      <td>0.275059</td>\n",
       "      <td>0.159373</td>\n",
       "      <td>0.240703</td>\n",
       "      <td>29.535590</td>\n",
       "      <td>1.115334e+05</td>\n",
       "      <td>0.356839</td>\n",
       "      <td>3.194545</td>\n",
       "    </tr>\n",
       "    <tr>\n",
       "      <th>min</th>\n",
       "      <td>1.000000</td>\n",
       "      <td>0.059900</td>\n",
       "      <td>0.000020</td>\n",
       "      <td>1.000000</td>\n",
       "      <td>-35.154000</td>\n",
       "      <td>0.000000</td>\n",
       "      <td>0.022500</td>\n",
       "      <td>0.000000</td>\n",
       "      <td>0.000001</td>\n",
       "      <td>0.011900</td>\n",
       "      <td>0.018300</td>\n",
       "      <td>30.557000</td>\n",
       "      <td>5.016500e-01</td>\n",
       "      <td>1.000000</td>\n",
       "      <td>0.000000</td>\n",
       "    </tr>\n",
       "    <tr>\n",
       "      <th>25%</th>\n",
       "      <td>33.000000</td>\n",
       "      <td>0.432000</td>\n",
       "      <td>0.512000</td>\n",
       "      <td>4.000000</td>\n",
       "      <td>-9.535000</td>\n",
       "      <td>0.000000</td>\n",
       "      <td>0.034800</td>\n",
       "      <td>0.004340</td>\n",
       "      <td>0.000280</td>\n",
       "      <td>0.096900</td>\n",
       "      <td>0.298000</td>\n",
       "      <td>99.592000</td>\n",
       "      <td>1.660400e+05</td>\n",
       "      <td>4.000000</td>\n",
       "      <td>5.000000</td>\n",
       "    </tr>\n",
       "    <tr>\n",
       "      <th>50%</th>\n",
       "      <td>44.000000</td>\n",
       "      <td>0.546000</td>\n",
       "      <td>0.701000</td>\n",
       "      <td>6.000000</td>\n",
       "      <td>-7.038000</td>\n",
       "      <td>1.000000</td>\n",
       "      <td>0.047300</td>\n",
       "      <td>0.081400</td>\n",
       "      <td>0.003910</td>\n",
       "      <td>0.129000</td>\n",
       "      <td>0.483000</td>\n",
       "      <td>120.044000</td>\n",
       "      <td>2.089380e+05</td>\n",
       "      <td>4.000000</td>\n",
       "      <td>8.000000</td>\n",
       "    </tr>\n",
       "    <tr>\n",
       "      <th>75%</th>\n",
       "      <td>56.000000</td>\n",
       "      <td>0.659000</td>\n",
       "      <td>0.860000</td>\n",
       "      <td>8.000000</td>\n",
       "      <td>-5.200000</td>\n",
       "      <td>1.000000</td>\n",
       "      <td>0.083100</td>\n",
       "      <td>0.431000</td>\n",
       "      <td>0.058600</td>\n",
       "      <td>0.257000</td>\n",
       "      <td>0.673000</td>\n",
       "      <td>141.971000</td>\n",
       "      <td>2.523470e+05</td>\n",
       "      <td>4.000000</td>\n",
       "      <td>10.000000</td>\n",
       "    </tr>\n",
       "    <tr>\n",
       "      <th>max</th>\n",
       "      <td>100.000000</td>\n",
       "      <td>0.989000</td>\n",
       "      <td>1.000000</td>\n",
       "      <td>11.000000</td>\n",
       "      <td>1.355000</td>\n",
       "      <td>1.000000</td>\n",
       "      <td>0.955000</td>\n",
       "      <td>0.996000</td>\n",
       "      <td>0.996000</td>\n",
       "      <td>0.992000</td>\n",
       "      <td>0.986000</td>\n",
       "      <td>217.416000</td>\n",
       "      <td>1.477187e+06</td>\n",
       "      <td>5.000000</td>\n",
       "      <td>10.000000</td>\n",
       "    </tr>\n",
       "  </tbody>\n",
       "</table>\n",
       "</div>"
      ],
      "text/plain": [
       "         Popularity  danceability        energy           key      loudness  \\\n",
       "count  13497.000000  13497.000000  13497.000000  13497.000000  13497.000000   \n",
       "mean      44.642884      0.543785      0.663316      5.947988     -7.933572   \n",
       "std       17.352919      0.166070      0.234648      3.019295      4.072310   \n",
       "min        1.000000      0.059900      0.000020      1.000000    -35.154000   \n",
       "25%       33.000000      0.432000      0.512000      4.000000     -9.535000   \n",
       "50%       44.000000      0.546000      0.701000      6.000000     -7.038000   \n",
       "75%       56.000000      0.659000      0.860000      8.000000     -5.200000   \n",
       "max      100.000000      0.989000      1.000000     11.000000      1.355000   \n",
       "\n",
       "               mode   speechiness  acousticness  instrumentalness  \\\n",
       "count  13497.000000  13497.000000  13497.000000      13497.000000   \n",
       "mean       0.638068      0.080189      0.246254          0.135716   \n",
       "std        0.480577      0.085045      0.309769          0.275059   \n",
       "min        0.000000      0.022500      0.000000          0.000001   \n",
       "25%        0.000000      0.034800      0.004340          0.000280   \n",
       "50%        1.000000      0.047300      0.081400          0.003910   \n",
       "75%        1.000000      0.083100      0.431000          0.058600   \n",
       "max        1.000000      0.955000      0.996000          0.996000   \n",
       "\n",
       "           liveness       valence         tempo  duration_in min/ms  \\\n",
       "count  13497.000000  13497.000000  13497.000000        1.349700e+04   \n",
       "mean       0.195656      0.486823    122.598905        2.003816e+05   \n",
       "std        0.159373      0.240703     29.535590        1.115334e+05   \n",
       "min        0.011900      0.018300     30.557000        5.016500e-01   \n",
       "25%        0.096900      0.298000     99.592000        1.660400e+05   \n",
       "50%        0.129000      0.483000    120.044000        2.089380e+05   \n",
       "75%        0.257000      0.673000    141.971000        2.523470e+05   \n",
       "max        0.992000      0.986000    217.416000        1.477187e+06   \n",
       "\n",
       "       time_signature         Class  \n",
       "count    13497.000000  13497.000000  \n",
       "mean         3.926206      6.701860  \n",
       "std          0.356839      3.194545  \n",
       "min          1.000000      0.000000  \n",
       "25%          4.000000      5.000000  \n",
       "50%          4.000000      8.000000  \n",
       "75%          4.000000     10.000000  \n",
       "max          5.000000     10.000000  "
      ]
     },
     "execution_count": 25,
     "metadata": {},
     "output_type": "execute_result"
    }
   ],
   "source": [
    "#Основные характеристики параметров\n",
    "X_train.describe()"
   ]
  },
  {
   "cell_type": "markdown",
   "id": "223a8cfc",
   "metadata": {},
   "source": [
    "Расссотрим зависимость класса от признаков"
   ]
  },
  {
   "cell_type": "code",
   "execution_count": 26,
   "id": "47f98908",
   "metadata": {},
   "outputs": [
    {
     "data": {
      "image/png": "[encoded data removed]",
      "text/plain": [
       "<Figure size 432x288 with 1 Axes>"
      ]
     },
     "metadata": {
      "needs_background": "light"
     },
     "output_type": "display_data"
    }
   ],
   "source": [
    "X_train.plot(kind = 'scatter', x = 'Popularity', y = 'Class', alpha=.01)\n",
    "pass"
   ]
  },
  {
   "cell_type": "code",
   "execution_count": 27,
   "id": "6000cdaa",
   "metadata": {},
   "outputs": [
    {
     "data": {
      "image/png": "[encoded data removed]",
      "text/plain": [
       "<Figure size 432x288 with 1 Axes>"
      ]
     },
     "metadata": {
      "needs_background": "light"
     },
     "output_type": "display_data"
    }
   ],
   "source": [
    "X_train.plot(kind = 'scatter', x = 'danceability', y = 'Class', alpha=.01)\n",
    "pass"
   ]
  },
  {
   "cell_type": "code",
   "execution_count": 28,
   "id": "eae346c8",
   "metadata": {},
   "outputs": [
    {
     "data": {
      "image/png": "[encoded data removed]",
      "text/plain": [
       "<Figure size 432x288 with 1 Axes>"
      ]
     },
     "metadata": {
      "needs_background": "light"
     },
     "output_type": "display_data"
    }
   ],
   "source": [
    "X_train.plot(kind = 'scatter', x = 'key', y = 'Class', alpha=.01)\n",
    "pass"
   ]
  },
  {
   "cell_type": "code",
   "execution_count": 29,
   "id": "cb6bc5de",
   "metadata": {},
   "outputs": [
    {
     "data": {
      "image/png": "[encoded data removed]",
      "text/plain": [
       "<Figure size 432x288 with 1 Axes>"
      ]
     },
     "metadata": {
      "needs_background": "light"
     },
     "output_type": "display_data"
    }
   ],
   "source": [
    "X_train.plot(kind = 'scatter', x = 'energy', y = 'Class', alpha=.01)\n",
    "pass"
   ]
  },
  {
   "cell_type": "code",
   "execution_count": 30,
   "id": "64b4d4ab",
   "metadata": {},
   "outputs": [
    {
     "data": {
      "image/png": "[encoded data removed]",
      "text/plain": [
       "<Figure size 432x288 with 1 Axes>"
      ]
     },
     "metadata": {
      "needs_background": "light"
     },
     "output_type": "display_data"
    }
   ],
   "source": [
    "X_train.plot(kind = 'scatter', x = 'loudness', y = 'Class', alpha=.01)\n",
    "pass"
   ]
  },
  {
   "cell_type": "code",
   "execution_count": 31,
   "id": "3dae4872",
   "metadata": {},
   "outputs": [
    {
     "data": {
      "image/png": "[encoded data removed]",
      "text/plain": [
       "<Figure size 432x288 with 1 Axes>"
      ]
     },
     "metadata": {
      "needs_background": "light"
     },
     "output_type": "display_data"
    }
   ],
   "source": [
    "X_train.plot(kind = 'scatter', x = 'mode', y = 'Class', alpha=.01)\n",
    "pass"
   ]
  },
  {
   "cell_type": "code",
   "execution_count": 32,
   "id": "77cd63f3",
   "metadata": {},
   "outputs": [
    {
     "data": {
      "image/png": "[encoded data removed]",
      "text/plain": [
       "<Figure size 432x288 with 1 Axes>"
      ]
     },
     "metadata": {
      "needs_background": "light"
     },
     "output_type": "display_data"
    }
   ],
   "source": [
    "X_train.plot(kind = 'scatter', x = 'speechiness', y = 'Class', alpha=.01)\n",
    "pass"
   ]
  },
  {
   "cell_type": "code",
   "execution_count": 33,
   "id": "b9fe2dc7",
   "metadata": {},
   "outputs": [
    {
     "data": {
      "image/png": "[encoded data removed]",
      "text/plain": [
       "<Figure size 432x288 with 1 Axes>"
      ]
     },
     "metadata": {
      "needs_background": "light"
     },
     "output_type": "display_data"
    }
   ],
   "source": [
    "X_train.plot(kind = 'scatter', x = 'acousticness', y = 'Class', alpha=.01)\n",
    "pass"
   ]
  },
  {
   "cell_type": "code",
   "execution_count": 34,
   "id": "97892232",
   "metadata": {},
   "outputs": [
    {
     "data": {
      "image/png": "[encoded data removed]",
      "text/plain": [
       "<Figure size 432x288 with 1 Axes>"
      ]
     },
     "metadata": {
      "needs_background": "light"
     },
     "output_type": "display_data"
    }
   ],
   "source": [
    "X_train.plot(kind = 'scatter', x = 'instrumentalness', y = 'Class', alpha=.01)\n",
    "pass"
   ]
  },
  {
   "cell_type": "code",
   "execution_count": 35,
   "id": "ee224bb1",
   "metadata": {},
   "outputs": [
    {
     "data": {
      "image/png": "[encoded data removed]",
      "text/plain": [
       "<Figure size 432x288 with 1 Axes>"
      ]
     },
     "metadata": {
      "needs_background": "light"
     },
     "output_type": "display_data"
    }
   ],
   "source": [
    "X_train.plot(kind = 'scatter', x = 'liveness', y = 'Class', alpha=.01)\n",
    "pass"
   ]
  },
  {
   "cell_type": "code",
   "execution_count": 36,
   "id": "a300e4bb",
   "metadata": {},
   "outputs": [
    {
     "data": {
      "image/png": "[encoded data removed]",
      "text/plain": [
       "<Figure size 432x288 with 1 Axes>"
      ]
     },
     "metadata": {
      "needs_background": "light"
     },
     "output_type": "display_data"
    }
   ],
   "source": [
    "X_train.plot(kind = 'scatter', x = 'valence', y = 'Class', alpha=.01)\n",
    "pass"
   ]
  },
  {
   "cell_type": "code",
   "execution_count": 37,
   "id": "547fa442",
   "metadata": {},
   "outputs": [
    {
     "data": {
      "image/png": "[encoded data removed]",
      "text/plain": [
       "<Figure size 432x288 with 1 Axes>"
      ]
     },
     "metadata": {
      "needs_background": "light"
     },
     "output_type": "display_data"
    }
   ],
   "source": [
    "X_train.plot(kind = 'scatter', x = 'tempo', y = 'Class', alpha=.01)\n",
    "pass"
   ]
  },
  {
   "cell_type": "code",
   "execution_count": 38,
   "id": "7f1b1a60",
   "metadata": {},
   "outputs": [
    {
     "data": {
      "image/png": "[encoded data removed]",
      "text/plain": [
       "<Figure size 432x288 with 1 Axes>"
      ]
     },
     "metadata": {
      "needs_background": "light"
     },
     "output_type": "display_data"
    }
   ],
   "source": [
    "X_train.plot(kind = 'scatter', x = 'tempo', y = 'Class', alpha=.01)\n",
    "pass"
   ]
  },
  {
   "cell_type": "code",
   "execution_count": 39,
   "id": "8005f389",
   "metadata": {},
   "outputs": [
    {
     "data": {
      "image/png": "[encoded data removed]",
      "text/plain": [
       "<Figure size 432x288 with 1 Axes>"
      ]
     },
     "metadata": {
      "needs_background": "light"
     },
     "output_type": "display_data"
    }
   ],
   "source": [
    "X_train.plot(kind = 'scatter', x = 'duration_in min/ms', y = 'Class', alpha=.01)\n",
    "pass"
   ]
  },
  {
   "cell_type": "code",
   "execution_count": 40,
   "id": "47396789",
   "metadata": {},
   "outputs": [
    {
     "data": {
      "image/png": "[encoded data removed]",
      "text/plain": [
       "<Figure size 432x288 with 1 Axes>"
      ]
     },
     "metadata": {
      "needs_background": "light"
     },
     "output_type": "display_data"
    }
   ],
   "source": [
    "X_train.plot(kind = 'scatter', x = 'time_signature', y = 'Class', alpha=.01)\n",
    "pass"
   ]
  },
  {
   "cell_type": "code",
   "execution_count": 41,
   "id": "275353ab",
   "metadata": {},
   "outputs": [
    {
     "data": {
      "text/html": [
       "<div>\n",
       "<style scoped>\n",
       "    .dataframe tbody tr th:only-of-type {\n",
       "        vertical-align: middle;\n",
       "    }\n",
       "\n",
       "    .dataframe tbody tr th {\n",
       "        vertical-align: top;\n",
       "    }\n",
       "\n",
       "    .dataframe thead th {\n",
       "        text-align: right;\n",
       "    }\n",
       "</style>\n",
       "<table border=\"1\" class=\"dataframe\">\n",
       "  <thead>\n",
       "    <tr style=\"text-align: right;\">\n",
       "      <th></th>\n",
       "      <th>Popularity</th>\n",
       "      <th>danceability</th>\n",
       "      <th>energy</th>\n",
       "      <th>key</th>\n",
       "      <th>loudness</th>\n",
       "      <th>mode</th>\n",
       "      <th>speechiness</th>\n",
       "      <th>acousticness</th>\n",
       "      <th>instrumentalness</th>\n",
       "      <th>liveness</th>\n",
       "      <th>valence</th>\n",
       "      <th>tempo</th>\n",
       "      <th>duration_in min/ms</th>\n",
       "      <th>time_signature</th>\n",
       "      <th>Class</th>\n",
       "    </tr>\n",
       "  </thead>\n",
       "  <tbody>\n",
       "    <tr>\n",
       "      <th>7126</th>\n",
       "      <td>45.0</td>\n",
       "      <td>0.484</td>\n",
       "      <td>0.832</td>\n",
       "      <td>11.0</td>\n",
       "      <td>-7.348</td>\n",
       "      <td>0</td>\n",
       "      <td>0.0414</td>\n",
       "      <td>0.14000</td>\n",
       "      <td>0.000001</td>\n",
       "      <td>0.166</td>\n",
       "      <td>0.340</td>\n",
       "      <td>130.038</td>\n",
       "      <td>165213.000000</td>\n",
       "      <td>4</td>\n",
       "      <td>6</td>\n",
       "    </tr>\n",
       "    <tr>\n",
       "      <th>17771</th>\n",
       "      <td>53.0</td>\n",
       "      <td>0.471</td>\n",
       "      <td>0.490</td>\n",
       "      <td>10.0</td>\n",
       "      <td>-9.044</td>\n",
       "      <td>1</td>\n",
       "      <td>0.0469</td>\n",
       "      <td>0.62500</td>\n",
       "      <td>0.000608</td>\n",
       "      <td>0.157</td>\n",
       "      <td>0.386</td>\n",
       "      <td>116.436</td>\n",
       "      <td>222816.000000</td>\n",
       "      <td>4</td>\n",
       "      <td>1</td>\n",
       "    </tr>\n",
       "    <tr>\n",
       "      <th>11401</th>\n",
       "      <td>70.0</td>\n",
       "      <td>0.599</td>\n",
       "      <td>0.790</td>\n",
       "      <td>4.0</td>\n",
       "      <td>-3.580</td>\n",
       "      <td>1</td>\n",
       "      <td>0.0430</td>\n",
       "      <td>0.00257</td>\n",
       "      <td>0.001810</td>\n",
       "      <td>0.312</td>\n",
       "      <td>0.961</td>\n",
       "      <td>103.783</td>\n",
       "      <td>188067.000000</td>\n",
       "      <td>4</td>\n",
       "      <td>10</td>\n",
       "    </tr>\n",
       "    <tr>\n",
       "      <th>2288</th>\n",
       "      <td>64.0</td>\n",
       "      <td>0.716</td>\n",
       "      <td>0.640</td>\n",
       "      <td>2.0</td>\n",
       "      <td>-8.726</td>\n",
       "      <td>1</td>\n",
       "      <td>0.0250</td>\n",
       "      <td>0.56500</td>\n",
       "      <td>0.001390</td>\n",
       "      <td>0.127</td>\n",
       "      <td>0.485</td>\n",
       "      <td>105.012</td>\n",
       "      <td>4.342283</td>\n",
       "      <td>4</td>\n",
       "      <td>3</td>\n",
       "    </tr>\n",
       "    <tr>\n",
       "      <th>5927</th>\n",
       "      <td>37.0</td>\n",
       "      <td>0.324</td>\n",
       "      <td>0.843</td>\n",
       "      <td>4.0</td>\n",
       "      <td>-9.096</td>\n",
       "      <td>0</td>\n",
       "      <td>0.0680</td>\n",
       "      <td>0.00125</td>\n",
       "      <td>0.000002</td>\n",
       "      <td>0.360</td>\n",
       "      <td>0.389</td>\n",
       "      <td>190.149</td>\n",
       "      <td>173091.000000</td>\n",
       "      <td>3</td>\n",
       "      <td>8</td>\n",
       "    </tr>\n",
       "    <tr>\n",
       "      <th>...</th>\n",
       "      <td>...</td>\n",
       "      <td>...</td>\n",
       "      <td>...</td>\n",
       "      <td>...</td>\n",
       "      <td>...</td>\n",
       "      <td>...</td>\n",
       "      <td>...</td>\n",
       "      <td>...</td>\n",
       "      <td>...</td>\n",
       "      <td>...</td>\n",
       "      <td>...</td>\n",
       "      <td>...</td>\n",
       "      <td>...</td>\n",
       "      <td>...</td>\n",
       "      <td>...</td>\n",
       "    </tr>\n",
       "    <tr>\n",
       "      <th>11284</th>\n",
       "      <td>47.0</td>\n",
       "      <td>0.470</td>\n",
       "      <td>0.862</td>\n",
       "      <td>6.0</td>\n",
       "      <td>-5.494</td>\n",
       "      <td>0</td>\n",
       "      <td>0.1120</td>\n",
       "      <td>0.00504</td>\n",
       "      <td>0.003910</td>\n",
       "      <td>0.059</td>\n",
       "      <td>0.473</td>\n",
       "      <td>162.226</td>\n",
       "      <td>222836.000000</td>\n",
       "      <td>4</td>\n",
       "      <td>10</td>\n",
       "    </tr>\n",
       "    <tr>\n",
       "      <th>11964</th>\n",
       "      <td>45.0</td>\n",
       "      <td>0.606</td>\n",
       "      <td>0.704</td>\n",
       "      <td>6.0</td>\n",
       "      <td>-4.615</td>\n",
       "      <td>1</td>\n",
       "      <td>0.0519</td>\n",
       "      <td>0.02920</td>\n",
       "      <td>0.000007</td>\n",
       "      <td>0.105</td>\n",
       "      <td>0.686</td>\n",
       "      <td>106.960</td>\n",
       "      <td>195722.000000</td>\n",
       "      <td>4</td>\n",
       "      <td>10</td>\n",
       "    </tr>\n",
       "    <tr>\n",
       "      <th>5390</th>\n",
       "      <td>43.0</td>\n",
       "      <td>0.565</td>\n",
       "      <td>0.468</td>\n",
       "      <td>8.0</td>\n",
       "      <td>-8.959</td>\n",
       "      <td>0</td>\n",
       "      <td>0.0470</td>\n",
       "      <td>0.79400</td>\n",
       "      <td>0.905000</td>\n",
       "      <td>0.216</td>\n",
       "      <td>0.079</td>\n",
       "      <td>155.006</td>\n",
       "      <td>209806.000000</td>\n",
       "      <td>4</td>\n",
       "      <td>1</td>\n",
       "    </tr>\n",
       "    <tr>\n",
       "      <th>860</th>\n",
       "      <td>42.0</td>\n",
       "      <td>0.628</td>\n",
       "      <td>0.795</td>\n",
       "      <td>11.0</td>\n",
       "      <td>-6.941</td>\n",
       "      <td>0</td>\n",
       "      <td>0.0282</td>\n",
       "      <td>0.00406</td>\n",
       "      <td>0.000014</td>\n",
       "      <td>0.132</td>\n",
       "      <td>0.731</td>\n",
       "      <td>134.999</td>\n",
       "      <td>308387.000000</td>\n",
       "      <td>4</td>\n",
       "      <td>10</td>\n",
       "    </tr>\n",
       "    <tr>\n",
       "      <th>15795</th>\n",
       "      <td>30.0</td>\n",
       "      <td>0.605</td>\n",
       "      <td>0.428</td>\n",
       "      <td>6.0</td>\n",
       "      <td>-7.930</td>\n",
       "      <td>1</td>\n",
       "      <td>0.0261</td>\n",
       "      <td>0.68500</td>\n",
       "      <td>0.009240</td>\n",
       "      <td>0.201</td>\n",
       "      <td>0.228</td>\n",
       "      <td>152.969</td>\n",
       "      <td>260013.000000</td>\n",
       "      <td>4</td>\n",
       "      <td>6</td>\n",
       "    </tr>\n",
       "  </tbody>\n",
       "</table>\n",
       "<p>13497 rows × 15 columns</p>\n",
       "</div>"
      ],
      "text/plain": [
       "       Popularity  danceability  energy   key  loudness  mode  speechiness  \\\n",
       "7126         45.0         0.484   0.832  11.0    -7.348     0       0.0414   \n",
       "17771        53.0         0.471   0.490  10.0    -9.044     1       0.0469   \n",
       "11401        70.0         0.599   0.790   4.0    -3.580     1       0.0430   \n",
       "2288         64.0         0.716   0.640   2.0    -8.726     1       0.0250   \n",
       "5927         37.0         0.324   0.843   4.0    -9.096     0       0.0680   \n",
       "...           ...           ...     ...   ...       ...   ...          ...   \n",
       "11284        47.0         0.470   0.862   6.0    -5.494     0       0.1120   \n",
       "11964        45.0         0.606   0.704   6.0    -4.615     1       0.0519   \n",
       "5390         43.0         0.565   0.468   8.0    -8.959     0       0.0470   \n",
       "860          42.0         0.628   0.795  11.0    -6.941     0       0.0282   \n",
       "15795        30.0         0.605   0.428   6.0    -7.930     1       0.0261   \n",
       "\n",
       "       acousticness  instrumentalness  liveness  valence    tempo  \\\n",
       "7126        0.14000          0.000001     0.166    0.340  130.038   \n",
       "17771       0.62500          0.000608     0.157    0.386  116.436   \n",
       "11401       0.00257          0.001810     0.312    0.961  103.783   \n",
       "2288        0.56500          0.001390     0.127    0.485  105.012   \n",
       "5927        0.00125          0.000002     0.360    0.389  190.149   \n",
       "...             ...               ...       ...      ...      ...   \n",
       "11284       0.00504          0.003910     0.059    0.473  162.226   \n",
       "11964       0.02920          0.000007     0.105    0.686  106.960   \n",
       "5390        0.79400          0.905000     0.216    0.079  155.006   \n",
       "860         0.00406          0.000014     0.132    0.731  134.999   \n",
       "15795       0.68500          0.009240     0.201    0.228  152.969   \n",
       "\n",
       "       duration_in min/ms  time_signature  Class  \n",
       "7126        165213.000000               4      6  \n",
       "17771       222816.000000               4      1  \n",
       "11401       188067.000000               4     10  \n",
       "2288             4.342283               4      3  \n",
       "5927        173091.000000               3      8  \n",
       "...                   ...             ...    ...  \n",
       "11284       222836.000000               4     10  \n",
       "11964       195722.000000               4     10  \n",
       "5390        209806.000000               4      1  \n",
       "860         308387.000000               4     10  \n",
       "15795       260013.000000               4      6  \n",
       "\n",
       "[13497 rows x 15 columns]"
      ]
     },
     "execution_count": 41,
     "metadata": {},
     "output_type": "execute_result"
    }
   ],
   "source": [
    "X_train"
   ]
  },
  {
   "cell_type": "code",
   "execution_count": 42,
   "id": "e4757311",
   "metadata": {},
   "outputs": [],
   "source": [
    "# Уберем из обучающей выборки незначащие признаки\n",
    "X_train = X_train.drop(['key', 'mode','time_signature','Class'], axis=1)"
   ]
  },
  {
   "cell_type": "code",
   "execution_count": 43,
   "id": "f351b397",
   "metadata": {},
   "outputs": [
    {
     "data": {
      "text/html": [
       "<div>\n",
       "<style scoped>\n",
       "    .dataframe tbody tr th:only-of-type {\n",
       "        vertical-align: middle;\n",
       "    }\n",
       "\n",
       "    .dataframe tbody tr th {\n",
       "        vertical-align: top;\n",
       "    }\n",
       "\n",
       "    .dataframe thead th {\n",
       "        text-align: right;\n",
       "    }\n",
       "</style>\n",
       "<table border=\"1\" class=\"dataframe\">\n",
       "  <thead>\n",
       "    <tr style=\"text-align: right;\">\n",
       "      <th></th>\n",
       "      <th>Popularity</th>\n",
       "      <th>danceability</th>\n",
       "      <th>energy</th>\n",
       "      <th>loudness</th>\n",
       "      <th>speechiness</th>\n",
       "      <th>acousticness</th>\n",
       "      <th>instrumentalness</th>\n",
       "      <th>liveness</th>\n",
       "      <th>valence</th>\n",
       "      <th>tempo</th>\n",
       "      <th>duration_in min/ms</th>\n",
       "    </tr>\n",
       "  </thead>\n",
       "  <tbody>\n",
       "    <tr>\n",
       "      <th>7126</th>\n",
       "      <td>45.0</td>\n",
       "      <td>0.484</td>\n",
       "      <td>0.832</td>\n",
       "      <td>-7.348</td>\n",
       "      <td>0.0414</td>\n",
       "      <td>0.14000</td>\n",
       "      <td>0.000001</td>\n",
       "      <td>0.166</td>\n",
       "      <td>0.340</td>\n",
       "      <td>130.038</td>\n",
       "      <td>165213.000000</td>\n",
       "    </tr>\n",
       "    <tr>\n",
       "      <th>17771</th>\n",
       "      <td>53.0</td>\n",
       "      <td>0.471</td>\n",
       "      <td>0.490</td>\n",
       "      <td>-9.044</td>\n",
       "      <td>0.0469</td>\n",
       "      <td>0.62500</td>\n",
       "      <td>0.000608</td>\n",
       "      <td>0.157</td>\n",
       "      <td>0.386</td>\n",
       "      <td>116.436</td>\n",
       "      <td>222816.000000</td>\n",
       "    </tr>\n",
       "    <tr>\n",
       "      <th>11401</th>\n",
       "      <td>70.0</td>\n",
       "      <td>0.599</td>\n",
       "      <td>0.790</td>\n",
       "      <td>-3.580</td>\n",
       "      <td>0.0430</td>\n",
       "      <td>0.00257</td>\n",
       "      <td>0.001810</td>\n",
       "      <td>0.312</td>\n",
       "      <td>0.961</td>\n",
       "      <td>103.783</td>\n",
       "      <td>188067.000000</td>\n",
       "    </tr>\n",
       "    <tr>\n",
       "      <th>2288</th>\n",
       "      <td>64.0</td>\n",
       "      <td>0.716</td>\n",
       "      <td>0.640</td>\n",
       "      <td>-8.726</td>\n",
       "      <td>0.0250</td>\n",
       "      <td>0.56500</td>\n",
       "      <td>0.001390</td>\n",
       "      <td>0.127</td>\n",
       "      <td>0.485</td>\n",
       "      <td>105.012</td>\n",
       "      <td>4.342283</td>\n",
       "    </tr>\n",
       "    <tr>\n",
       "      <th>5927</th>\n",
       "      <td>37.0</td>\n",
       "      <td>0.324</td>\n",
       "      <td>0.843</td>\n",
       "      <td>-9.096</td>\n",
       "      <td>0.0680</td>\n",
       "      <td>0.00125</td>\n",
       "      <td>0.000002</td>\n",
       "      <td>0.360</td>\n",
       "      <td>0.389</td>\n",
       "      <td>190.149</td>\n",
       "      <td>173091.000000</td>\n",
       "    </tr>\n",
       "  </tbody>\n",
       "</table>\n",
       "</div>"
      ],
      "text/plain": [
       "       Popularity  danceability  energy  loudness  speechiness  acousticness  \\\n",
       "7126         45.0         0.484   0.832    -7.348       0.0414       0.14000   \n",
       "17771        53.0         0.471   0.490    -9.044       0.0469       0.62500   \n",
       "11401        70.0         0.599   0.790    -3.580       0.0430       0.00257   \n",
       "2288         64.0         0.716   0.640    -8.726       0.0250       0.56500   \n",
       "5927         37.0         0.324   0.843    -9.096       0.0680       0.00125   \n",
       "\n",
       "       instrumentalness  liveness  valence    tempo  duration_in min/ms  \n",
       "7126           0.000001     0.166    0.340  130.038       165213.000000  \n",
       "17771          0.000608     0.157    0.386  116.436       222816.000000  \n",
       "11401          0.001810     0.312    0.961  103.783       188067.000000  \n",
       "2288           0.001390     0.127    0.485  105.012            4.342283  \n",
       "5927           0.000002     0.360    0.389  190.149       173091.000000  "
      ]
     },
     "execution_count": 43,
     "metadata": {},
     "output_type": "execute_result"
    }
   ],
   "source": [
    "X_train.head()"
   ]
  },
  {
   "cell_type": "markdown",
   "id": "1baf34ea",
   "metadata": {},
   "source": [
    "# 6 Масштабирование признаков"
   ]
  },
  {
   "cell_type": "code",
   "execution_count": 44,
   "id": "1cc5c9d1",
   "metadata": {},
   "outputs": [],
   "source": [
    "from sklearn.preprocessing import StandardScaler\n",
    "scaler = StandardScaler()\n",
    "scaler.fit(X_train)\n",
    "X_train = pd.DataFrame(scaler.transform(X_train), columns=X_train.columns, index=X_train.index)"
   ]
  },
  {
   "cell_type": "code",
   "execution_count": 45,
   "id": "82edf27e",
   "metadata": {},
   "outputs": [
    {
     "data": {
      "text/html": [
       "<div>\n",
       "<style scoped>\n",
       "    .dataframe tbody tr th:only-of-type {\n",
       "        vertical-align: middle;\n",
       "    }\n",
       "\n",
       "    .dataframe tbody tr th {\n",
       "        vertical-align: top;\n",
       "    }\n",
       "\n",
       "    .dataframe thead th {\n",
       "        text-align: right;\n",
       "    }\n",
       "</style>\n",
       "<table border=\"1\" class=\"dataframe\">\n",
       "  <thead>\n",
       "    <tr style=\"text-align: right;\">\n",
       "      <th></th>\n",
       "      <th>Popularity</th>\n",
       "      <th>danceability</th>\n",
       "      <th>energy</th>\n",
       "      <th>loudness</th>\n",
       "      <th>speechiness</th>\n",
       "      <th>acousticness</th>\n",
       "      <th>instrumentalness</th>\n",
       "      <th>liveness</th>\n",
       "      <th>valence</th>\n",
       "      <th>tempo</th>\n",
       "      <th>duration_in min/ms</th>\n",
       "    </tr>\n",
       "  </thead>\n",
       "  <tbody>\n",
       "    <tr>\n",
       "      <th>count</th>\n",
       "      <td>1.349700e+04</td>\n",
       "      <td>1.349700e+04</td>\n",
       "      <td>1.349700e+04</td>\n",
       "      <td>1.349700e+04</td>\n",
       "      <td>1.349700e+04</td>\n",
       "      <td>1.349700e+04</td>\n",
       "      <td>1.349700e+04</td>\n",
       "      <td>1.349700e+04</td>\n",
       "      <td>1.349700e+04</td>\n",
       "      <td>1.349700e+04</td>\n",
       "      <td>1.349700e+04</td>\n",
       "    </tr>\n",
       "    <tr>\n",
       "      <th>mean</th>\n",
       "      <td>3.378789e-16</td>\n",
       "      <td>-5.420532e-16</td>\n",
       "      <td>-5.867558e-16</td>\n",
       "      <td>-8.562428e-17</td>\n",
       "      <td>2.870770e-18</td>\n",
       "      <td>3.033639e-17</td>\n",
       "      <td>2.155052e-16</td>\n",
       "      <td>-4.961127e-19</td>\n",
       "      <td>1.325490e-16</td>\n",
       "      <td>9.168368e-17</td>\n",
       "      <td>-4.649167e-17</td>\n",
       "    </tr>\n",
       "    <tr>\n",
       "      <th>std</th>\n",
       "      <td>1.000037e+00</td>\n",
       "      <td>1.000037e+00</td>\n",
       "      <td>1.000037e+00</td>\n",
       "      <td>1.000037e+00</td>\n",
       "      <td>1.000037e+00</td>\n",
       "      <td>1.000037e+00</td>\n",
       "      <td>1.000037e+00</td>\n",
       "      <td>1.000037e+00</td>\n",
       "      <td>1.000037e+00</td>\n",
       "      <td>1.000037e+00</td>\n",
       "      <td>1.000037e+00</td>\n",
       "    </tr>\n",
       "    <tr>\n",
       "      <th>min</th>\n",
       "      <td>-2.515110e+00</td>\n",
       "      <td>-2.913847e+00</td>\n",
       "      <td>-2.826874e+00</td>\n",
       "      <td>-6.684519e+00</td>\n",
       "      <td>-6.783549e-01</td>\n",
       "      <td>-7.949900e-01</td>\n",
       "      <td>-4.934212e-01</td>\n",
       "      <td>-1.153039e+00</td>\n",
       "      <td>-1.946550e+00</td>\n",
       "      <td>-3.116420e+00</td>\n",
       "      <td>-1.796668e+00</td>\n",
       "    </tr>\n",
       "    <tr>\n",
       "      <th>25%</th>\n",
       "      <td>-6.709716e-01</td>\n",
       "      <td>-6.731458e-01</td>\n",
       "      <td>-6.448894e-01</td>\n",
       "      <td>-3.932625e-01</td>\n",
       "      <td>-5.337208e-01</td>\n",
       "      <td>-7.809790e-01</td>\n",
       "      <td>-4.924068e-01</td>\n",
       "      <td>-6.196791e-01</td>\n",
       "      <td>-7.844941e-01</td>\n",
       "      <td>-7.789842e-01</td>\n",
       "      <td>-3.079153e-01</td>\n",
       "    </tr>\n",
       "    <tr>\n",
       "      <th>50%</th>\n",
       "      <td>-3.704895e-02</td>\n",
       "      <td>1.333624e-02</td>\n",
       "      <td>1.606018e-01</td>\n",
       "      <td>2.199257e-01</td>\n",
       "      <td>-3.867349e-01</td>\n",
       "      <td>-5.322040e-01</td>\n",
       "      <td>-4.792092e-01</td>\n",
       "      <td>-4.182573e-01</td>\n",
       "      <td>-1.588356e-02</td>\n",
       "      <td>-8.650579e-02</td>\n",
       "      <td>7.671908e-02</td>\n",
       "    </tr>\n",
       "    <tr>\n",
       "      <th>75%</th>\n",
       "      <td>6.545030e-01</td>\n",
       "      <td>6.937965e-01</td>\n",
       "      <td>8.382372e-01</td>\n",
       "      <td>6.712833e-01</td>\n",
       "      <td>3.423253e-02</td>\n",
       "      <td>5.964197e-01</td>\n",
       "      <td>-2.803720e-01</td>\n",
       "      <td>3.849203e-01</td>\n",
       "      <td>7.735002e-01</td>\n",
       "      <td>6.559142e-01</td>\n",
       "      <td>4.659352e-01</td>\n",
       "    </tr>\n",
       "    <tr>\n",
       "      <th>max</th>\n",
       "      <td>3.190193e+00</td>\n",
       "      <td>2.680981e+00</td>\n",
       "      <td>1.434897e+00</td>\n",
       "      <td>2.280994e+00</td>\n",
       "      <td>1.028679e+01</td>\n",
       "      <td>2.420425e+00</td>\n",
       "      <td>3.127746e+00</td>\n",
       "      <td>4.996917e+00</td>\n",
       "      <td>2.073906e+00</td>\n",
       "      <td>3.210385e+00</td>\n",
       "      <td>1.144816e+01</td>\n",
       "    </tr>\n",
       "  </tbody>\n",
       "</table>\n",
       "</div>"
      ],
      "text/plain": [
       "         Popularity  danceability        energy      loudness   speechiness  \\\n",
       "count  1.349700e+04  1.349700e+04  1.349700e+04  1.349700e+04  1.349700e+04   \n",
       "mean   3.378789e-16 -5.420532e-16 -5.867558e-16 -8.562428e-17  2.870770e-18   \n",
       "std    1.000037e+00  1.000037e+00  1.000037e+00  1.000037e+00  1.000037e+00   \n",
       "min   -2.515110e+00 -2.913847e+00 -2.826874e+00 -6.684519e+00 -6.783549e-01   \n",
       "25%   -6.709716e-01 -6.731458e-01 -6.448894e-01 -3.932625e-01 -5.337208e-01   \n",
       "50%   -3.704895e-02  1.333624e-02  1.606018e-01  2.199257e-01 -3.867349e-01   \n",
       "75%    6.545030e-01  6.937965e-01  8.382372e-01  6.712833e-01  3.423253e-02   \n",
       "max    3.190193e+00  2.680981e+00  1.434897e+00  2.280994e+00  1.028679e+01   \n",
       "\n",
       "       acousticness  instrumentalness      liveness       valence  \\\n",
       "count  1.349700e+04      1.349700e+04  1.349700e+04  1.349700e+04   \n",
       "mean   3.033639e-17      2.155052e-16 -4.961127e-19  1.325490e-16   \n",
       "std    1.000037e+00      1.000037e+00  1.000037e+00  1.000037e+00   \n",
       "min   -7.949900e-01     -4.934212e-01 -1.153039e+00 -1.946550e+00   \n",
       "25%   -7.809790e-01     -4.924068e-01 -6.196791e-01 -7.844941e-01   \n",
       "50%   -5.322040e-01     -4.792092e-01 -4.182573e-01 -1.588356e-02   \n",
       "75%    5.964197e-01     -2.803720e-01  3.849203e-01  7.735002e-01   \n",
       "max    2.420425e+00      3.127746e+00  4.996917e+00  2.073906e+00   \n",
       "\n",
       "              tempo  duration_in min/ms  \n",
       "count  1.349700e+04        1.349700e+04  \n",
       "mean   9.168368e-17       -4.649167e-17  \n",
       "std    1.000037e+00        1.000037e+00  \n",
       "min   -3.116420e+00       -1.796668e+00  \n",
       "25%   -7.789842e-01       -3.079153e-01  \n",
       "50%   -8.650579e-02        7.671908e-02  \n",
       "75%    6.559142e-01        4.659352e-01  \n",
       "max    3.210385e+00        1.144816e+01  "
      ]
     },
     "execution_count": 45,
     "metadata": {},
     "output_type": "execute_result"
    }
   ],
   "source": [
    "X_train.describe()"
   ]
  },
  {
   "cell_type": "code",
   "execution_count": 46,
   "id": "55eddff7",
   "metadata": {},
   "outputs": [
    {
     "data": {
      "text/html": [
       "<div>\n",
       "<style scoped>\n",
       "    .dataframe tbody tr th:only-of-type {\n",
       "        vertical-align: middle;\n",
       "    }\n",
       "\n",
       "    .dataframe tbody tr th {\n",
       "        vertical-align: top;\n",
       "    }\n",
       "\n",
       "    .dataframe thead th {\n",
       "        text-align: right;\n",
       "    }\n",
       "</style>\n",
       "<table border=\"1\" class=\"dataframe\">\n",
       "  <thead>\n",
       "    <tr style=\"text-align: right;\">\n",
       "      <th></th>\n",
       "      <th>Popularity</th>\n",
       "      <th>danceability</th>\n",
       "      <th>energy</th>\n",
       "      <th>loudness</th>\n",
       "      <th>speechiness</th>\n",
       "      <th>acousticness</th>\n",
       "      <th>instrumentalness</th>\n",
       "      <th>liveness</th>\n",
       "      <th>valence</th>\n",
       "      <th>tempo</th>\n",
       "      <th>duration_in min/ms</th>\n",
       "    </tr>\n",
       "  </thead>\n",
       "  <tbody>\n",
       "    <tr>\n",
       "      <th>7126</th>\n",
       "      <td>0.020580</td>\n",
       "      <td>-0.360014</td>\n",
       "      <td>0.718905</td>\n",
       "      <td>0.143799</td>\n",
       "      <td>-0.456112</td>\n",
       "      <td>-0.343024</td>\n",
       "      <td>-0.493421</td>\n",
       "      <td>-0.186089</td>\n",
       "      <td>-0.609999</td>\n",
       "      <td>0.251878</td>\n",
       "      <td>-0.315330</td>\n",
       "    </tr>\n",
       "    <tr>\n",
       "      <th>17771</th>\n",
       "      <td>0.481615</td>\n",
       "      <td>-0.438297</td>\n",
       "      <td>-0.738650</td>\n",
       "      <td>-0.272688</td>\n",
       "      <td>-0.391438</td>\n",
       "      <td>1.222716</td>\n",
       "      <td>-0.491214</td>\n",
       "      <td>-0.242562</td>\n",
       "      <td>-0.418885</td>\n",
       "      <td>-0.208668</td>\n",
       "      <td>0.201153</td>\n",
       "    </tr>\n",
       "    <tr>\n",
       "      <th>11401</th>\n",
       "      <td>1.461314</td>\n",
       "      <td>0.332490</td>\n",
       "      <td>0.539907</td>\n",
       "      <td>1.069107</td>\n",
       "      <td>-0.437298</td>\n",
       "      <td>-0.786693</td>\n",
       "      <td>-0.486844</td>\n",
       "      <td>0.730036</td>\n",
       "      <td>1.970040</td>\n",
       "      <td>-0.637082</td>\n",
       "      <td>-0.110416</td>\n",
       "    </tr>\n",
       "    <tr>\n",
       "      <th>2288</th>\n",
       "      <td>1.115538</td>\n",
       "      <td>1.037038</td>\n",
       "      <td>-0.099372</td>\n",
       "      <td>-0.194596</td>\n",
       "      <td>-0.648958</td>\n",
       "      <td>1.029016</td>\n",
       "      <td>-0.488371</td>\n",
       "      <td>-0.430807</td>\n",
       "      <td>-0.007574</td>\n",
       "      <td>-0.595470</td>\n",
       "      <td>-1.796633</td>\n",
       "    </tr>\n",
       "    <tr>\n",
       "      <th>5927</th>\n",
       "      <td>-0.440454</td>\n",
       "      <td>-1.323497</td>\n",
       "      <td>0.765786</td>\n",
       "      <td>-0.285457</td>\n",
       "      <td>-0.143326</td>\n",
       "      <td>-0.790955</td>\n",
       "      <td>-0.493416</td>\n",
       "      <td>1.031227</td>\n",
       "      <td>-0.406421</td>\n",
       "      <td>2.287159</td>\n",
       "      <td>-0.244694</td>\n",
       "    </tr>\n",
       "  </tbody>\n",
       "</table>\n",
       "</div>"
      ],
      "text/plain": [
       "       Popularity  danceability    energy  loudness  speechiness  \\\n",
       "7126     0.020580     -0.360014  0.718905  0.143799    -0.456112   \n",
       "17771    0.481615     -0.438297 -0.738650 -0.272688    -0.391438   \n",
       "11401    1.461314      0.332490  0.539907  1.069107    -0.437298   \n",
       "2288     1.115538      1.037038 -0.099372 -0.194596    -0.648958   \n",
       "5927    -0.440454     -1.323497  0.765786 -0.285457    -0.143326   \n",
       "\n",
       "       acousticness  instrumentalness  liveness   valence     tempo  \\\n",
       "7126      -0.343024         -0.493421 -0.186089 -0.609999  0.251878   \n",
       "17771      1.222716         -0.491214 -0.242562 -0.418885 -0.208668   \n",
       "11401     -0.786693         -0.486844  0.730036  1.970040 -0.637082   \n",
       "2288       1.029016         -0.488371 -0.430807 -0.007574 -0.595470   \n",
       "5927      -0.790955         -0.493416  1.031227 -0.406421  2.287159   \n",
       "\n",
       "       duration_in min/ms  \n",
       "7126            -0.315330  \n",
       "17771            0.201153  \n",
       "11401           -0.110416  \n",
       "2288            -1.796633  \n",
       "5927            -0.244694  "
      ]
     },
     "execution_count": 46,
     "metadata": {},
     "output_type": "execute_result"
    }
   ],
   "source": [
    "X_train.head()"
   ]
  },
  {
   "cell_type": "markdown",
   "id": "850d2d7b",
   "metadata": {},
   "source": [
    "# 7 Обучение"
   ]
  },
  {
   "cell_type": "markdown",
   "id": "aa723194",
   "metadata": {},
   "source": [
    "# Логистическая регрессия"
   ]
  },
  {
   "cell_type": "code",
   "execution_count": 47,
   "id": "a0b3a263",
   "metadata": {},
   "outputs": [
    {
     "data": {
      "text/html": [
       "<style>#sk-container-id-1 {color: black;background-color: white;}#sk-container-id-1 pre{padding: 0;}#sk-container-id-1 div.sk-toggleable {background-color: white;}#sk-container-id-1 label.sk-toggleable__label {cursor: pointer;display: block;width: 100%;margin-bottom: 0;padding: 0.3em;box-sizing: border-box;text-align: center;}#sk-container-id-1 label.sk-toggleable__label-arrow:before {content: \"▸\";float: left;margin-right: 0.25em;color: #696969;}#sk-container-id-1 label.sk-toggleable__label-arrow:hover:before {color: black;}#sk-container-id-1 div.sk-estimator:hover label.sk-toggleable__label-arrow:before {color: black;}#sk-container-id-1 div.sk-toggleable__content {max-height: 0;max-width: 0;overflow: hidden;text-align: left;background-color: #f0f8ff;}#sk-container-id-1 div.sk-toggleable__content pre {margin: 0.2em;color: black;border-radius: 0.25em;background-color: #f0f8ff;}#sk-container-id-1 input.sk-toggleable__control:checked~div.sk-toggleable__content {max-height: 200px;max-width: 100%;overflow: auto;}#sk-container-id-1 input.sk-toggleable__control:checked~label.sk-toggleable__label-arrow:before {content: \"▾\";}#sk-container-id-1 div.sk-estimator input.sk-toggleable__control:checked~label.sk-toggleable__label {background-color: #d4ebff;}#sk-container-id-1 div.sk-label input.sk-toggleable__control:checked~label.sk-toggleable__label {background-color: #d4ebff;}#sk-container-id-1 input.sk-hidden--visually {border: 0;clip: rect(1px 1px 1px 1px);clip: rect(1px, 1px, 1px, 1px);height: 1px;margin: -1px;overflow: hidden;padding: 0;position: absolute;width: 1px;}#sk-container-id-1 div.sk-estimator {font-family: monospace;background-color: #f0f8ff;border: 1px dotted black;border-radius: 0.25em;box-sizing: border-box;margin-bottom: 0.5em;}#sk-container-id-1 div.sk-estimator:hover {background-color: #d4ebff;}#sk-container-id-1 div.sk-parallel-item::after {content: \"\";width: 100%;border-bottom: 1px solid gray;flex-grow: 1;}#sk-container-id-1 div.sk-label:hover label.sk-toggleable__label {background-color: #d4ebff;}#sk-container-id-1 div.sk-serial::before {content: \"\";position: absolute;border-left: 1px solid gray;box-sizing: border-box;top: 0;bottom: 0;left: 50%;z-index: 0;}#sk-container-id-1 div.sk-serial {display: flex;flex-direction: column;align-items: center;background-color: white;padding-right: 0.2em;padding-left: 0.2em;position: relative;}#sk-container-id-1 div.sk-item {position: relative;z-index: 1;}#sk-container-id-1 div.sk-parallel {display: flex;align-items: stretch;justify-content: center;background-color: white;position: relative;}#sk-container-id-1 div.sk-item::before, #sk-container-id-1 div.sk-parallel-item::before {content: \"\";position: absolute;border-left: 1px solid gray;box-sizing: border-box;top: 0;bottom: 0;left: 50%;z-index: -1;}#sk-container-id-1 div.sk-parallel-item {display: flex;flex-direction: column;z-index: 1;position: relative;background-color: white;}#sk-container-id-1 div.sk-parallel-item:first-child::after {align-self: flex-end;width: 50%;}#sk-container-id-1 div.sk-parallel-item:last-child::after {align-self: flex-start;width: 50%;}#sk-container-id-1 div.sk-parallel-item:only-child::after {width: 0;}#sk-container-id-1 div.sk-dashed-wrapped {border: 1px dashed gray;margin: 0 0.4em 0.5em 0.4em;box-sizing: border-box;padding-bottom: 0.4em;background-color: white;}#sk-container-id-1 div.sk-label label {font-family: monospace;font-weight: bold;display: inline-block;line-height: 1.2em;}#sk-container-id-1 div.sk-label-container {text-align: center;}#sk-container-id-1 div.sk-container {/* jupyter's `normalize.less` sets `[hidden] { display: none; }` but bootstrap.min.css set `[hidden] { display: none !important; }` so we also need the `!important` here to be able to override the default hidden behavior on the sphinx rendered scikit-learn.org. See: https://github.com/scikit-learn/scikit-learn/issues/21755 */display: inline-block !important;position: relative;}#sk-container-id-1 div.sk-text-repr-fallback {display: none;}</style><div id=\"sk-container-id-1\" class=\"sk-top-container\"><div class=\"sk-text-repr-fallback\"><pre>LogisticRegression(max_iter=1000)</pre><b>In a Jupyter environment, please rerun this cell to show the HTML representation or trust the notebook. <br />On GitHub, the HTML representation is unable to render, please try loading this page with nbviewer.org.</b></div><div class=\"sk-container\" hidden><div class=\"sk-item\"><div class=\"sk-estimator sk-toggleable\"><input class=\"sk-toggleable__control sk-hidden--visually\" id=\"sk-estimator-id-1\" type=\"checkbox\" checked><label for=\"sk-estimator-id-1\" class=\"sk-toggleable__label sk-toggleable__label-arrow\">LogisticRegression</label><div class=\"sk-toggleable__content\"><pre>LogisticRegression(max_iter=1000)</pre></div></div></div></div></div>"
      ],
      "text/plain": [
       "LogisticRegression(max_iter=1000)"
      ]
     },
     "execution_count": 47,
     "metadata": {},
     "output_type": "execute_result"
    }
   ],
   "source": [
    "from sklearn.linear_model import LogisticRegression\n",
    "from sklearn import metrics\n",
    "\n",
    "logreg = LogisticRegression(max_iter=1000)\n",
    "logreg.fit(X_train, y_train)"
   ]
  },
  {
   "cell_type": "code",
   "execution_count": 48,
   "id": "1c03a08d",
   "metadata": {},
   "outputs": [],
   "source": [
    "# Уберем из тестовой выборки незначащие признаки\n",
    "X_test = X_test.drop(['key', 'mode','time_signature','Class'], axis=1)"
   ]
  },
  {
   "cell_type": "code",
   "execution_count": 49,
   "id": "ab2d513d",
   "metadata": {},
   "outputs": [],
   "source": [
    "#Отмасштабируем признаки\n",
    "from sklearn.preprocessing import StandardScaler\n",
    "scaler = StandardScaler()\n",
    "scaler.fit(X_test)\n",
    "X_test = pd.DataFrame(scaler.transform(X_test), columns=X_test.columns, index=X_test.index)"
   ]
  },
  {
   "cell_type": "code",
   "execution_count": 50,
   "id": "079814f4",
   "metadata": {},
   "outputs": [
    {
     "name": "stdout",
     "output_type": "stream",
     "text": [
      "Accuracy of logistic regression classifier on test set: 0.49\n",
      "Accuracy of logistic regression classifier on train set: 0.50\n"
     ]
    }
   ],
   "source": [
    "#Тестируем\n",
    "y_test_pred = logreg.predict(X_test)\n",
    "y_train_pred = logreg.predict(X_train)\n",
    "print('Accuracy of logistic regression classifier on test set: {:.2f}'.format(logreg.score(X_test, y_test)))\n",
    "print('Accuracy of logistic regression classifier on train set: {:.2f}'.format(logreg.score(X_train, y_train)))"
   ]
  },
  {
   "cell_type": "code",
   "execution_count": 51,
   "id": "b1f34812",
   "metadata": {},
   "outputs": [
    {
     "name": "stdout",
     "output_type": "stream",
     "text": [
      "              precision    recall  f1-score   support\n",
      "\n",
      "           0       0.67      0.77      0.72       172\n",
      "           1       0.00      0.00      0.00       340\n",
      "           2       0.45      0.32      0.37       340\n",
      "           3       0.70      0.61      0.65       104\n",
      "           4       0.39      0.51      0.45        84\n",
      "           5       0.64      0.66      0.65       340\n",
      "           6       0.42      0.24      0.30       626\n",
      "           7       0.90      0.91      0.90       134\n",
      "           8       0.58      0.53      0.55       473\n",
      "           9       0.44      0.44      0.44       663\n",
      "          10       0.44      0.69      0.53      1223\n",
      "\n",
      "    accuracy                           0.49      4499\n",
      "   macro avg       0.51      0.52      0.51      4499\n",
      "weighted avg       0.46      0.49      0.47      4499\n",
      "\n"
     ]
    },
    {
     "name": "stderr",
     "output_type": "stream",
     "text": [
      "C:\\Users\\mario\\anaconda3\\lib\\site-packages\\sklearn\\metrics\\_classification.py:1344: UndefinedMetricWarning: Precision and F-score are ill-defined and being set to 0.0 in labels with no predicted samples. Use `zero_division` parameter to control this behavior.\n",
      "  _warn_prf(average, modifier, msg_start, len(result))\n",
      "C:\\Users\\mario\\anaconda3\\lib\\site-packages\\sklearn\\metrics\\_classification.py:1344: UndefinedMetricWarning: Precision and F-score are ill-defined and being set to 0.0 in labels with no predicted samples. Use `zero_division` parameter to control this behavior.\n",
      "  _warn_prf(average, modifier, msg_start, len(result))\n",
      "C:\\Users\\mario\\anaconda3\\lib\\site-packages\\sklearn\\metrics\\_classification.py:1344: UndefinedMetricWarning: Precision and F-score are ill-defined and being set to 0.0 in labels with no predicted samples. Use `zero_division` parameter to control this behavior.\n",
      "  _warn_prf(average, modifier, msg_start, len(result))\n"
     ]
    }
   ],
   "source": [
    "from sklearn.metrics import classification_report\n",
    "print(classification_report(y_test, y_test_pred))"
   ]
  },
  {
   "cell_type": "markdown",
   "id": "feb3b877",
   "metadata": {},
   "source": [
    "# Матрица ошибок\n",
    "from sklearn.metrics import confusion_matrix\n",
    "confusion_matrix = confusion_matrix(y_test, y_test_pred)\n",
    "print(confusion_matrix)"
   ]
  },
  {
   "cell_type": "code",
   "execution_count": 53,
   "id": "26843e6b",
   "metadata": {},
   "outputs": [
    {
     "data": {
      "text/plain": [
       "(12.933614877380158,\n",
       " 12.875083351855968,\n",
       " -0.26745934668770643,\n",
       " -0.22621985724774074)"
      ]
     },
     "execution_count": 53,
     "metadata": {},
     "output_type": "execute_result"
    }
   ],
   "source": [
    "from sklearn.metrics import mean_squared_error, r2_score\n",
    "\n",
    "MSE_train = mean_squared_error(y_train, y_train_pred)\n",
    "MSE_test  = mean_squared_error(y_test,  y_test_pred)\n",
    "R2_train = r2_score(y_train, y_train_pred)\n",
    "R2_test  = r2_score(y_test,  y_test_pred)\n",
    "\n",
    "MSE_train, MSE_test, R2_train, R2_test"
   ]
  },
  {
   "cell_type": "markdown",
   "id": "f40e0fb7",
   "metadata": {},
   "source": [
    "# kNN"
   ]
  },
  {
   "cell_type": "code",
   "execution_count": 54,
   "id": "4b6e3814",
   "metadata": {},
   "outputs": [],
   "source": [
    "\n",
    "from sklearn.neighbors import KNeighborsClassifier"
   ]
  },
  {
   "cell_type": "code",
   "execution_count": 55,
   "id": "282e757d",
   "metadata": {},
   "outputs": [
    {
     "data": {
      "text/html": [
       "<style>#sk-container-id-2 {color: black;background-color: white;}#sk-container-id-2 pre{padding: 0;}#sk-container-id-2 div.sk-toggleable {background-color: white;}#sk-container-id-2 label.sk-toggleable__label {cursor: pointer;display: block;width: 100%;margin-bottom: 0;padding: 0.3em;box-sizing: border-box;text-align: center;}#sk-container-id-2 label.sk-toggleable__label-arrow:before {content: \"▸\";float: left;margin-right: 0.25em;color: #696969;}#sk-container-id-2 label.sk-toggleable__label-arrow:hover:before {color: black;}#sk-container-id-2 div.sk-estimator:hover label.sk-toggleable__label-arrow:before {color: black;}#sk-container-id-2 div.sk-toggleable__content {max-height: 0;max-width: 0;overflow: hidden;text-align: left;background-color: #f0f8ff;}#sk-container-id-2 div.sk-toggleable__content pre {margin: 0.2em;color: black;border-radius: 0.25em;background-color: #f0f8ff;}#sk-container-id-2 input.sk-toggleable__control:checked~div.sk-toggleable__content {max-height: 200px;max-width: 100%;overflow: auto;}#sk-container-id-2 input.sk-toggleable__control:checked~label.sk-toggleable__label-arrow:before {content: \"▾\";}#sk-container-id-2 div.sk-estimator input.sk-toggleable__control:checked~label.sk-toggleable__label {background-color: #d4ebff;}#sk-container-id-2 div.sk-label input.sk-toggleable__control:checked~label.sk-toggleable__label {background-color: #d4ebff;}#sk-container-id-2 input.sk-hidden--visually {border: 0;clip: rect(1px 1px 1px 1px);clip: rect(1px, 1px, 1px, 1px);height: 1px;margin: -1px;overflow: hidden;padding: 0;position: absolute;width: 1px;}#sk-container-id-2 div.sk-estimator {font-family: monospace;background-color: #f0f8ff;border: 1px dotted black;border-radius: 0.25em;box-sizing: border-box;margin-bottom: 0.5em;}#sk-container-id-2 div.sk-estimator:hover {background-color: #d4ebff;}#sk-container-id-2 div.sk-parallel-item::after {content: \"\";width: 100%;border-bottom: 1px solid gray;flex-grow: 1;}#sk-container-id-2 div.sk-label:hover label.sk-toggleable__label {background-color: #d4ebff;}#sk-container-id-2 div.sk-serial::before {content: \"\";position: absolute;border-left: 1px solid gray;box-sizing: border-box;top: 0;bottom: 0;left: 50%;z-index: 0;}#sk-container-id-2 div.sk-serial {display: flex;flex-direction: column;align-items: center;background-color: white;padding-right: 0.2em;padding-left: 0.2em;position: relative;}#sk-container-id-2 div.sk-item {position: relative;z-index: 1;}#sk-container-id-2 div.sk-parallel {display: flex;align-items: stretch;justify-content: center;background-color: white;position: relative;}#sk-container-id-2 div.sk-item::before, #sk-container-id-2 div.sk-parallel-item::before {content: \"\";position: absolute;border-left: 1px solid gray;box-sizing: border-box;top: 0;bottom: 0;left: 50%;z-index: -1;}#sk-container-id-2 div.sk-parallel-item {display: flex;flex-direction: column;z-index: 1;position: relative;background-color: white;}#sk-container-id-2 div.sk-parallel-item:first-child::after {align-self: flex-end;width: 50%;}#sk-container-id-2 div.sk-parallel-item:last-child::after {align-self: flex-start;width: 50%;}#sk-container-id-2 div.sk-parallel-item:only-child::after {width: 0;}#sk-container-id-2 div.sk-dashed-wrapped {border: 1px dashed gray;margin: 0 0.4em 0.5em 0.4em;box-sizing: border-box;padding-bottom: 0.4em;background-color: white;}#sk-container-id-2 div.sk-label label {font-family: monospace;font-weight: bold;display: inline-block;line-height: 1.2em;}#sk-container-id-2 div.sk-label-container {text-align: center;}#sk-container-id-2 div.sk-container {/* jupyter's `normalize.less` sets `[hidden] { display: none; }` but bootstrap.min.css set `[hidden] { display: none !important; }` so we also need the `!important` here to be able to override the default hidden behavior on the sphinx rendered scikit-learn.org. See: https://github.com/scikit-learn/scikit-learn/issues/21755 */display: inline-block !important;position: relative;}#sk-container-id-2 div.sk-text-repr-fallback {display: none;}</style><div id=\"sk-container-id-2\" class=\"sk-top-container\"><div class=\"sk-text-repr-fallback\"><pre>KNeighborsClassifier(n_neighbors=10)</pre><b>In a Jupyter environment, please rerun this cell to show the HTML representation or trust the notebook. <br />On GitHub, the HTML representation is unable to render, please try loading this page with nbviewer.org.</b></div><div class=\"sk-container\" hidden><div class=\"sk-item\"><div class=\"sk-estimator sk-toggleable\"><input class=\"sk-toggleable__control sk-hidden--visually\" id=\"sk-estimator-id-2\" type=\"checkbox\" checked><label for=\"sk-estimator-id-2\" class=\"sk-toggleable__label sk-toggleable__label-arrow\">KNeighborsClassifier</label><div class=\"sk-toggleable__content\"><pre>KNeighborsClassifier(n_neighbors=10)</pre></div></div></div></div></div>"
      ],
      "text/plain": [
       "KNeighborsClassifier(n_neighbors=10)"
      ]
     },
     "execution_count": 55,
     "metadata": {},
     "output_type": "execute_result"
    }
   ],
   "source": [
    "#Обучаем модель\n",
    "KNN_model = KNeighborsClassifier(n_neighbors=10)\n",
    "\n",
    "KNN_model.fit(X_train, y_train)"
   ]
  },
  {
   "cell_type": "code",
   "execution_count": 56,
   "id": "1863acf6",
   "metadata": {},
   "outputs": [],
   "source": [
    "#Тестируем\n",
    "y_train_predict = KNN_model.predict(X_train)\n",
    "y_test_predict  = KNN_model.predict(X_test)\n"
   ]
  },
  {
   "cell_type": "code",
   "execution_count": 64,
   "id": "75be0037",
   "metadata": {},
   "outputs": [
    {
     "name": "stdout",
     "output_type": "stream",
     "text": [
      "Accuracy of KNN on test set: 0.47\n",
      "Accuracy of KNN on train set: 0.57\n"
     ]
    }
   ],
   "source": [
    "print('Accuracy of KNN on test set: {:.2f}'.format(KNN_model.score(X_test, y_test)))\n",
    "print('Accuracy of KNN on train set: {:.2f}'.format(KNN_model.score(X_train, y_train)))"
   ]
  },
  {
   "cell_type": "code",
   "execution_count": 65,
   "id": "5629170c",
   "metadata": {},
   "outputs": [
    {
     "name": "stdout",
     "output_type": "stream",
     "text": [
      "              precision    recall  f1-score   support\n",
      "\n",
      "           0       0.67      0.75      0.71       172\n",
      "           1       0.10      0.04      0.06       340\n",
      "           2       0.46      0.35      0.40       340\n",
      "           3       0.72      0.53      0.61       104\n",
      "           4       0.45      0.65      0.54        84\n",
      "           5       0.61      0.67      0.64       340\n",
      "           6       0.31      0.27      0.29       626\n",
      "           7       0.87      0.90      0.89       134\n",
      "           8       0.50      0.52      0.51       473\n",
      "           9       0.49      0.48      0.48       663\n",
      "          10       0.45      0.56      0.49      1223\n",
      "\n",
      "    accuracy                           0.47      4499\n",
      "   macro avg       0.51      0.52      0.51      4499\n",
      "weighted avg       0.45      0.47      0.46      4499\n",
      "\n"
     ]
    }
   ],
   "source": [
    "\n",
    "print(classification_report(y_test, y_test_predict))"
   ]
  },
  {
   "cell_type": "markdown",
   "id": "569b1ac7",
   "metadata": {},
   "source": [
    "# Метод опорных векторов"
   ]
  },
  {
   "cell_type": "code",
   "execution_count": 59,
   "id": "e88e1465",
   "metadata": {},
   "outputs": [],
   "source": [
    "from sklearn.svm import SVC"
   ]
  },
  {
   "cell_type": "code",
   "execution_count": 60,
   "id": "84122e20",
   "metadata": {},
   "outputs": [],
   "source": [
    "\n",
    "SVC_model = SVC()"
   ]
  },
  {
   "cell_type": "code",
   "execution_count": 61,
   "id": "5a3b7d14",
   "metadata": {},
   "outputs": [
    {
     "data": {
      "text/html": [
       "<style>#sk-container-id-3 {color: black;background-color: white;}#sk-container-id-3 pre{padding: 0;}#sk-container-id-3 div.sk-toggleable {background-color: white;}#sk-container-id-3 label.sk-toggleable__label {cursor: pointer;display: block;width: 100%;margin-bottom: 0;padding: 0.3em;box-sizing: border-box;text-align: center;}#sk-container-id-3 label.sk-toggleable__label-arrow:before {content: \"▸\";float: left;margin-right: 0.25em;color: #696969;}#sk-container-id-3 label.sk-toggleable__label-arrow:hover:before {color: black;}#sk-container-id-3 div.sk-estimator:hover label.sk-toggleable__label-arrow:before {color: black;}#sk-container-id-3 div.sk-toggleable__content {max-height: 0;max-width: 0;overflow: hidden;text-align: left;background-color: #f0f8ff;}#sk-container-id-3 div.sk-toggleable__content pre {margin: 0.2em;color: black;border-radius: 0.25em;background-color: #f0f8ff;}#sk-container-id-3 input.sk-toggleable__control:checked~div.sk-toggleable__content {max-height: 200px;max-width: 100%;overflow: auto;}#sk-container-id-3 input.sk-toggleable__control:checked~label.sk-toggleable__label-arrow:before {content: \"▾\";}#sk-container-id-3 div.sk-estimator input.sk-toggleable__control:checked~label.sk-toggleable__label {background-color: #d4ebff;}#sk-container-id-3 div.sk-label input.sk-toggleable__control:checked~label.sk-toggleable__label {background-color: #d4ebff;}#sk-container-id-3 input.sk-hidden--visually {border: 0;clip: rect(1px 1px 1px 1px);clip: rect(1px, 1px, 1px, 1px);height: 1px;margin: -1px;overflow: hidden;padding: 0;position: absolute;width: 1px;}#sk-container-id-3 div.sk-estimator {font-family: monospace;background-color: #f0f8ff;border: 1px dotted black;border-radius: 0.25em;box-sizing: border-box;margin-bottom: 0.5em;}#sk-container-id-3 div.sk-estimator:hover {background-color: #d4ebff;}#sk-container-id-3 div.sk-parallel-item::after {content: \"\";width: 100%;border-bottom: 1px solid gray;flex-grow: 1;}#sk-container-id-3 div.sk-label:hover label.sk-toggleable__label {background-color: #d4ebff;}#sk-container-id-3 div.sk-serial::before {content: \"\";position: absolute;border-left: 1px solid gray;box-sizing: border-box;top: 0;bottom: 0;left: 50%;z-index: 0;}#sk-container-id-3 div.sk-serial {display: flex;flex-direction: column;align-items: center;background-color: white;padding-right: 0.2em;padding-left: 0.2em;position: relative;}#sk-container-id-3 div.sk-item {position: relative;z-index: 1;}#sk-container-id-3 div.sk-parallel {display: flex;align-items: stretch;justify-content: center;background-color: white;position: relative;}#sk-container-id-3 div.sk-item::before, #sk-container-id-3 div.sk-parallel-item::before {content: \"\";position: absolute;border-left: 1px solid gray;box-sizing: border-box;top: 0;bottom: 0;left: 50%;z-index: -1;}#sk-container-id-3 div.sk-parallel-item {display: flex;flex-direction: column;z-index: 1;position: relative;background-color: white;}#sk-container-id-3 div.sk-parallel-item:first-child::after {align-self: flex-end;width: 50%;}#sk-container-id-3 div.sk-parallel-item:last-child::after {align-self: flex-start;width: 50%;}#sk-container-id-3 div.sk-parallel-item:only-child::after {width: 0;}#sk-container-id-3 div.sk-dashed-wrapped {border: 1px dashed gray;margin: 0 0.4em 0.5em 0.4em;box-sizing: border-box;padding-bottom: 0.4em;background-color: white;}#sk-container-id-3 div.sk-label label {font-family: monospace;font-weight: bold;display: inline-block;line-height: 1.2em;}#sk-container-id-3 div.sk-label-container {text-align: center;}#sk-container-id-3 div.sk-container {/* jupyter's `normalize.less` sets `[hidden] { display: none; }` but bootstrap.min.css set `[hidden] { display: none !important; }` so we also need the `!important` here to be able to override the default hidden behavior on the sphinx rendered scikit-learn.org. See: https://github.com/scikit-learn/scikit-learn/issues/21755 */display: inline-block !important;position: relative;}#sk-container-id-3 div.sk-text-repr-fallback {display: none;}</style><div id=\"sk-container-id-3\" class=\"sk-top-container\"><div class=\"sk-text-repr-fallback\"><pre>SVC()</pre><b>In a Jupyter environment, please rerun this cell to show the HTML representation or trust the notebook. <br />On GitHub, the HTML representation is unable to render, please try loading this page with nbviewer.org.</b></div><div class=\"sk-container\" hidden><div class=\"sk-item\"><div class=\"sk-estimator sk-toggleable\"><input class=\"sk-toggleable__control sk-hidden--visually\" id=\"sk-estimator-id-3\" type=\"checkbox\" checked><label for=\"sk-estimator-id-3\" class=\"sk-toggleable__label sk-toggleable__label-arrow\">SVC</label><div class=\"sk-toggleable__content\"><pre>SVC()</pre></div></div></div></div></div>"
      ],
      "text/plain": [
       "SVC()"
      ]
     },
     "execution_count": 61,
     "metadata": {},
     "output_type": "execute_result"
    }
   ],
   "source": [
    "#Обучаем\n",
    "SVC_model.fit(X_train, y_train)"
   ]
  },
  {
   "cell_type": "code",
   "execution_count": 62,
   "id": "4e2a940c",
   "metadata": {},
   "outputs": [],
   "source": [
    "#Тестируем\n",
    "y_train_pr = SVC_model.predict(X_train)\n",
    "y_test_pr  = SVC_model.predict(X_test)"
   ]
  },
  {
   "cell_type": "code",
   "execution_count": 66,
   "id": "aef2220f",
   "metadata": {},
   "outputs": [
    {
     "name": "stdout",
     "output_type": "stream",
     "text": [
      "Accuracy of SVC on test set: 0.53\n",
      "Accuracy of SVC on train set: 0.56\n"
     ]
    }
   ],
   "source": [
    "print('Accuracy of SVC on test set: {:.2f}'.format(SVC_model.score(X_test, y_test)))\n",
    "print('Accuracy of SVC on train set: {:.2f}'.format(SVC_model.score(X_train, y_train)))"
   ]
  },
  {
   "cell_type": "code",
   "execution_count": 67,
   "id": "2843ea7e",
   "metadata": {},
   "outputs": [
    {
     "name": "stdout",
     "output_type": "stream",
     "text": [
      "              precision    recall  f1-score   support\n",
      "\n",
      "           0       0.69      0.80      0.74       172\n",
      "           1       0.56      0.01      0.03       340\n",
      "           2       0.59      0.32      0.41       340\n",
      "           3       0.85      0.60      0.70       104\n",
      "           4       0.50      0.64      0.57        84\n",
      "           5       0.63      0.70      0.66       340\n",
      "           6       0.46      0.24      0.32       626\n",
      "           7       0.92      0.91      0.91       134\n",
      "           8       0.66      0.45      0.54       473\n",
      "           9       0.53      0.53      0.53       663\n",
      "          10       0.45      0.77      0.56      1223\n",
      "\n",
      "    accuracy                           0.53      4499\n",
      "   macro avg       0.62      0.54      0.54      4499\n",
      "weighted avg       0.55      0.53      0.50      4499\n",
      "\n"
     ]
    }
   ],
   "source": [
    "print(classification_report(y_test, y_test_pr))"
   ]
  },
  {
   "cell_type": "code",
   "execution_count": null,
   "id": "a43983f5",
   "metadata": {},
   "outputs": [],
   "source": []
  }
 ],
 "metadata": {
  "kernelspec": {
   "display_name": "Python 3 (ipykernel)",
   "language": "python",
   "name": "python3"
  },
  "language_info": {
   "codemirror_mode": {
    "name": "ipython",
    "version": 3
   },
   "file_extension": ".py",
   "mimetype": "text/x-python",
   "name": "python",
   "nbconvert_exporter": "python",
   "pygments_lexer": "ipython3",
   "version": "3.9.7"
  }
 },
 "nbformat": 4,
 "nbformat_minor": 5
}
